{
 "cells": [
  {
   "cell_type": "markdown",
   "id": "1960cac3",
   "metadata": {
    "papermill": {
     "duration": 0.060094,
     "end_time": "2022-01-25T08:59:18.834843",
     "exception": false,
     "start_time": "2022-01-25T08:59:18.774749",
     "status": "completed"
    },
    "tags": []
   },
   "source": [
    "You have been provided 4 individual data sets. Time period of data is from **31/01/2016 to 31/12/2018**\n",
    "Below are the list of datasets which are provided for the analysis:\n",
    "* **Cab_Data.csv** – this file includes details of transaction for 2 cab companies\n",
    "* **Customer_ID.csv** – this is a mapping table that contains a unique identifier which links the customer’s demographic details\n",
    "* **Transaction_ID.csv** – this is a mapping table that contains transaction to customer mapping and payment mode\n",
    "* **City.csv** – this file contains list of US cities, their population and number of cab users"
   ]
  },
  {
   "cell_type": "code",
   "execution_count": 1,
   "id": "593bfc94",
   "metadata": {
    "execution": {
     "iopub.execute_input": "2022-01-25T08:59:18.963451Z",
     "iopub.status.busy": "2022-01-25T08:59:18.962838Z",
     "iopub.status.idle": "2022-01-25T08:59:20.049159Z",
     "shell.execute_reply": "2022-01-25T08:59:20.048078Z",
     "shell.execute_reply.started": "2021-08-10T04:59:24.935733Z"
    },
    "papermill": {
     "duration": 1.155326,
     "end_time": "2022-01-25T08:59:20.049341",
     "exception": false,
     "start_time": "2022-01-25T08:59:18.894015",
     "status": "completed"
    },
    "tags": []
   },
   "outputs": [],
   "source": [
    "#importing libraries\n",
    "import numpy as np\n",
    "import pandas as pd\n",
    "import matplotlib.pyplot as plt\n",
    "import seaborn as sns\n",
    "from sklearn.preprocessing import OrdinalEncoder"
   ]
  },
  {
   "cell_type": "code",
   "execution_count": 2,
   "id": "2c1bcb39",
   "metadata": {
    "execution": {
     "iopub.execute_input": "2022-01-25T08:59:20.173804Z",
     "iopub.status.busy": "2022-01-25T08:59:20.173155Z",
     "iopub.status.idle": "2022-01-25T08:59:20.861503Z",
     "shell.execute_reply": "2022-01-25T08:59:20.860926Z",
     "shell.execute_reply.started": "2021-08-10T04:59:25.914518Z"
    },
    "papermill": {
     "duration": 0.751988,
     "end_time": "2022-01-25T08:59:20.861655",
     "exception": false,
     "start_time": "2022-01-25T08:59:20.109667",
     "status": "completed"
    },
    "tags": []
   },
   "outputs": [
    {
     "data": {
      "text/html": [
       "<div>\n",
       "<style scoped>\n",
       "    .dataframe tbody tr th:only-of-type {\n",
       "        vertical-align: middle;\n",
       "    }\n",
       "\n",
       "    .dataframe tbody tr th {\n",
       "        vertical-align: top;\n",
       "    }\n",
       "\n",
       "    .dataframe thead th {\n",
       "        text-align: right;\n",
       "    }\n",
       "</style>\n",
       "<table border=\"1\" class=\"dataframe\">\n",
       "  <thead>\n",
       "    <tr style=\"text-align: right;\">\n",
       "      <th></th>\n",
       "      <th>Transaction ID</th>\n",
       "      <th>Date of Travel</th>\n",
       "      <th>Company</th>\n",
       "      <th>City</th>\n",
       "      <th>KM Travelled</th>\n",
       "      <th>Price Charged</th>\n",
       "      <th>Cost of Trip</th>\n",
       "    </tr>\n",
       "  </thead>\n",
       "  <tbody>\n",
       "    <tr>\n",
       "      <th>0</th>\n",
       "      <td>10000011</td>\n",
       "      <td>08-01-2016</td>\n",
       "      <td>Pink Cab</td>\n",
       "      <td>ATLANTA GA</td>\n",
       "      <td>30.45</td>\n",
       "      <td>370.95</td>\n",
       "      <td>313.635</td>\n",
       "    </tr>\n",
       "    <tr>\n",
       "      <th>1</th>\n",
       "      <td>10000012</td>\n",
       "      <td>06-01-2016</td>\n",
       "      <td>Pink Cab</td>\n",
       "      <td>ATLANTA GA</td>\n",
       "      <td>28.62</td>\n",
       "      <td>358.52</td>\n",
       "      <td>334.854</td>\n",
       "    </tr>\n",
       "    <tr>\n",
       "      <th>2</th>\n",
       "      <td>10000013</td>\n",
       "      <td>02-01-2016</td>\n",
       "      <td>Pink Cab</td>\n",
       "      <td>ATLANTA GA</td>\n",
       "      <td>9.04</td>\n",
       "      <td>125.20</td>\n",
       "      <td>97.632</td>\n",
       "    </tr>\n",
       "    <tr>\n",
       "      <th>3</th>\n",
       "      <td>10000014</td>\n",
       "      <td>07-01-2016</td>\n",
       "      <td>Pink Cab</td>\n",
       "      <td>ATLANTA GA</td>\n",
       "      <td>33.17</td>\n",
       "      <td>377.40</td>\n",
       "      <td>351.602</td>\n",
       "    </tr>\n",
       "    <tr>\n",
       "      <th>4</th>\n",
       "      <td>10000015</td>\n",
       "      <td>03-01-2016</td>\n",
       "      <td>Pink Cab</td>\n",
       "      <td>ATLANTA GA</td>\n",
       "      <td>8.73</td>\n",
       "      <td>114.62</td>\n",
       "      <td>97.776</td>\n",
       "    </tr>\n",
       "  </tbody>\n",
       "</table>\n",
       "</div>"
      ],
      "text/plain": [
       "   Transaction ID Date of Travel   Company        City  KM Travelled  \\\n",
       "0        10000011     08-01-2016  Pink Cab  ATLANTA GA         30.45   \n",
       "1        10000012     06-01-2016  Pink Cab  ATLANTA GA         28.62   \n",
       "2        10000013     02-01-2016  Pink Cab  ATLANTA GA          9.04   \n",
       "3        10000014     07-01-2016  Pink Cab  ATLANTA GA         33.17   \n",
       "4        10000015     03-01-2016  Pink Cab  ATLANTA GA          8.73   \n",
       "\n",
       "   Price Charged  Cost of Trip  \n",
       "0         370.95       313.635  \n",
       "1         358.52       334.854  \n",
       "2         125.20        97.632  \n",
       "3         377.40       351.602  \n",
       "4         114.62        97.776  "
      ]
     },
     "execution_count": 2,
     "metadata": {},
     "output_type": "execute_result"
    }
   ],
   "source": [
    "#importing Cab_Data.csv\n",
    "cab = pd.read_csv('/kaggle/input/cabs-fare-data/Cab_Data.csv')\n",
    "cab.head(5)"
   ]
  },
  {
   "cell_type": "markdown",
   "id": "6fb577bf",
   "metadata": {
    "papermill": {
     "duration": 0.059017,
     "end_time": "2022-01-25T08:59:20.980361",
     "exception": false,
     "start_time": "2022-01-25T08:59:20.921344",
     "status": "completed"
    },
    "tags": []
   },
   "source": [
    "* Transaction ID- unique id for every transaction\n",
    "* Date of Travel - date when the ride happened\n",
    "* Company- name of the company which provided the cab for ride\n",
    "* KM Travelled- distance travlled by cab in KMs\n",
    "* Price Charged- amount charged to the customer for the ride\n",
    "* Cost of Trip- actual cost of the trip (no profit or loss is added)"
   ]
  },
  {
   "cell_type": "code",
   "execution_count": 3,
   "id": "b898b4c1",
   "metadata": {
    "execution": {
     "iopub.execute_input": "2022-01-25T08:59:21.103240Z",
     "iopub.status.busy": "2022-01-25T08:59:21.102596Z",
     "iopub.status.idle": "2022-01-25T08:59:21.121341Z",
     "shell.execute_reply": "2022-01-25T08:59:21.120792Z",
     "shell.execute_reply.started": "2021-08-10T04:59:26.446779Z"
    },
    "papermill": {
     "duration": 0.081468,
     "end_time": "2022-01-25T08:59:21.121488",
     "exception": false,
     "start_time": "2022-01-25T08:59:21.040020",
     "status": "completed"
    },
    "tags": []
   },
   "outputs": [
    {
     "data": {
      "text/html": [
       "<div>\n",
       "<style scoped>\n",
       "    .dataframe tbody tr th:only-of-type {\n",
       "        vertical-align: middle;\n",
       "    }\n",
       "\n",
       "    .dataframe tbody tr th {\n",
       "        vertical-align: top;\n",
       "    }\n",
       "\n",
       "    .dataframe thead th {\n",
       "        text-align: right;\n",
       "    }\n",
       "</style>\n",
       "<table border=\"1\" class=\"dataframe\">\n",
       "  <thead>\n",
       "    <tr style=\"text-align: right;\">\n",
       "      <th></th>\n",
       "      <th>City</th>\n",
       "      <th>Population</th>\n",
       "      <th>Users</th>\n",
       "    </tr>\n",
       "  </thead>\n",
       "  <tbody>\n",
       "    <tr>\n",
       "      <th>0</th>\n",
       "      <td>NEW YORK NY</td>\n",
       "      <td>8,405,837</td>\n",
       "      <td>302,149</td>\n",
       "    </tr>\n",
       "    <tr>\n",
       "      <th>1</th>\n",
       "      <td>CHICAGO IL</td>\n",
       "      <td>1,955,130</td>\n",
       "      <td>164,468</td>\n",
       "    </tr>\n",
       "    <tr>\n",
       "      <th>2</th>\n",
       "      <td>LOS ANGELES CA</td>\n",
       "      <td>1,595,037</td>\n",
       "      <td>144,132</td>\n",
       "    </tr>\n",
       "    <tr>\n",
       "      <th>3</th>\n",
       "      <td>MIAMI FL</td>\n",
       "      <td>1,339,155</td>\n",
       "      <td>17,675</td>\n",
       "    </tr>\n",
       "    <tr>\n",
       "      <th>4</th>\n",
       "      <td>SILICON VALLEY</td>\n",
       "      <td>1,177,609</td>\n",
       "      <td>27,247</td>\n",
       "    </tr>\n",
       "  </tbody>\n",
       "</table>\n",
       "</div>"
      ],
      "text/plain": [
       "             City   Population      Users\n",
       "0     NEW YORK NY   8,405,837    302,149 \n",
       "1      CHICAGO IL   1,955,130    164,468 \n",
       "2  LOS ANGELES CA   1,595,037    144,132 \n",
       "3        MIAMI FL   1,339,155     17,675 \n",
       "4  SILICON VALLEY   1,177,609     27,247 "
      ]
     },
     "execution_count": 3,
     "metadata": {},
     "output_type": "execute_result"
    }
   ],
   "source": [
    "city = pd.read_csv('../input/cabs-fare-data/City.csv')\n",
    "city.head(5)"
   ]
  },
  {
   "cell_type": "markdown",
   "id": "2bf2e869",
   "metadata": {
    "papermill": {
     "duration": 0.059232,
     "end_time": "2022-01-25T08:59:21.240908",
     "exception": false,
     "start_time": "2022-01-25T08:59:21.181676",
     "status": "completed"
    },
    "tags": []
   },
   "source": [
    "* City\n",
    "* Population\n",
    "* Users- number of cab users in the specific city"
   ]
  },
  {
   "cell_type": "code",
   "execution_count": 4,
   "id": "ec3d57a7",
   "metadata": {
    "execution": {
     "iopub.execute_input": "2022-01-25T08:59:21.365411Z",
     "iopub.status.busy": "2022-01-25T08:59:21.364720Z",
     "iopub.status.idle": "2022-01-25T08:59:21.423142Z",
     "shell.execute_reply": "2022-01-25T08:59:21.422588Z",
     "shell.execute_reply.started": "2021-08-10T04:59:26.467251Z"
    },
    "papermill": {
     "duration": 0.122512,
     "end_time": "2022-01-25T08:59:21.423280",
     "exception": false,
     "start_time": "2022-01-25T08:59:21.300768",
     "status": "completed"
    },
    "tags": []
   },
   "outputs": [
    {
     "data": {
      "text/html": [
       "<div>\n",
       "<style scoped>\n",
       "    .dataframe tbody tr th:only-of-type {\n",
       "        vertical-align: middle;\n",
       "    }\n",
       "\n",
       "    .dataframe tbody tr th {\n",
       "        vertical-align: top;\n",
       "    }\n",
       "\n",
       "    .dataframe thead th {\n",
       "        text-align: right;\n",
       "    }\n",
       "</style>\n",
       "<table border=\"1\" class=\"dataframe\">\n",
       "  <thead>\n",
       "    <tr style=\"text-align: right;\">\n",
       "      <th></th>\n",
       "      <th>Customer ID</th>\n",
       "      <th>Gender</th>\n",
       "      <th>Age</th>\n",
       "      <th>Income (USD/Month)</th>\n",
       "    </tr>\n",
       "  </thead>\n",
       "  <tbody>\n",
       "    <tr>\n",
       "      <th>0</th>\n",
       "      <td>29290</td>\n",
       "      <td>Male</td>\n",
       "      <td>28</td>\n",
       "      <td>10813</td>\n",
       "    </tr>\n",
       "    <tr>\n",
       "      <th>1</th>\n",
       "      <td>27703</td>\n",
       "      <td>Male</td>\n",
       "      <td>27</td>\n",
       "      <td>9237</td>\n",
       "    </tr>\n",
       "    <tr>\n",
       "      <th>2</th>\n",
       "      <td>28712</td>\n",
       "      <td>Male</td>\n",
       "      <td>53</td>\n",
       "      <td>11242</td>\n",
       "    </tr>\n",
       "    <tr>\n",
       "      <th>3</th>\n",
       "      <td>28020</td>\n",
       "      <td>Male</td>\n",
       "      <td>23</td>\n",
       "      <td>23327</td>\n",
       "    </tr>\n",
       "    <tr>\n",
       "      <th>4</th>\n",
       "      <td>27182</td>\n",
       "      <td>Male</td>\n",
       "      <td>33</td>\n",
       "      <td>8536</td>\n",
       "    </tr>\n",
       "  </tbody>\n",
       "</table>\n",
       "</div>"
      ],
      "text/plain": [
       "   Customer ID Gender  Age  Income (USD/Month)\n",
       "0        29290   Male   28               10813\n",
       "1        27703   Male   27                9237\n",
       "2        28712   Male   53               11242\n",
       "3        28020   Male   23               23327\n",
       "4        27182   Male   33                8536"
      ]
     },
     "execution_count": 4,
     "metadata": {},
     "output_type": "execute_result"
    }
   ],
   "source": [
    "customer = pd.read_csv('../input/cabs-fare-data/Customer_ID.csv')\n",
    "customer.head(5)"
   ]
  },
  {
   "cell_type": "markdown",
   "id": "0643db9f",
   "metadata": {
    "papermill": {
     "duration": 0.059093,
     "end_time": "2022-01-25T08:59:21.541985",
     "exception": false,
     "start_time": "2022-01-25T08:59:21.482892",
     "status": "completed"
    },
    "tags": []
   },
   "source": [
    "* Customer ID- unique customer ID \n",
    "* Gender\n",
    "* Age\n",
    "* Income - monthly income in USD for cutomer"
   ]
  },
  {
   "cell_type": "code",
   "execution_count": 5,
   "id": "fa1f4ade",
   "metadata": {
    "execution": {
     "iopub.execute_input": "2022-01-25T08:59:21.664274Z",
     "iopub.status.busy": "2022-01-25T08:59:21.663648Z",
     "iopub.status.idle": "2022-01-25T08:59:21.961617Z",
     "shell.execute_reply": "2022-01-25T08:59:21.961020Z",
     "shell.execute_reply.started": "2021-08-10T04:59:26.506859Z"
    },
    "papermill": {
     "duration": 0.360316,
     "end_time": "2022-01-25T08:59:21.961771",
     "exception": false,
     "start_time": "2022-01-25T08:59:21.601455",
     "status": "completed"
    },
    "scrolled": true,
    "tags": []
   },
   "outputs": [
    {
     "data": {
      "text/html": [
       "<div>\n",
       "<style scoped>\n",
       "    .dataframe tbody tr th:only-of-type {\n",
       "        vertical-align: middle;\n",
       "    }\n",
       "\n",
       "    .dataframe tbody tr th {\n",
       "        vertical-align: top;\n",
       "    }\n",
       "\n",
       "    .dataframe thead th {\n",
       "        text-align: right;\n",
       "    }\n",
       "</style>\n",
       "<table border=\"1\" class=\"dataframe\">\n",
       "  <thead>\n",
       "    <tr style=\"text-align: right;\">\n",
       "      <th></th>\n",
       "      <th>Transaction ID</th>\n",
       "      <th>Customer ID</th>\n",
       "      <th>Payment_Mode</th>\n",
       "    </tr>\n",
       "  </thead>\n",
       "  <tbody>\n",
       "    <tr>\n",
       "      <th>0</th>\n",
       "      <td>10000011</td>\n",
       "      <td>29290</td>\n",
       "      <td>Card</td>\n",
       "    </tr>\n",
       "    <tr>\n",
       "      <th>1</th>\n",
       "      <td>10000012</td>\n",
       "      <td>27703</td>\n",
       "      <td>Card</td>\n",
       "    </tr>\n",
       "    <tr>\n",
       "      <th>2</th>\n",
       "      <td>10000013</td>\n",
       "      <td>28712</td>\n",
       "      <td>Cash</td>\n",
       "    </tr>\n",
       "    <tr>\n",
       "      <th>3</th>\n",
       "      <td>10000014</td>\n",
       "      <td>28020</td>\n",
       "      <td>Cash</td>\n",
       "    </tr>\n",
       "    <tr>\n",
       "      <th>4</th>\n",
       "      <td>10000015</td>\n",
       "      <td>27182</td>\n",
       "      <td>Card</td>\n",
       "    </tr>\n",
       "  </tbody>\n",
       "</table>\n",
       "</div>"
      ],
      "text/plain": [
       "   Transaction ID  Customer ID Payment_Mode\n",
       "0        10000011        29290         Card\n",
       "1        10000012        27703         Card\n",
       "2        10000013        28712         Cash\n",
       "3        10000014        28020         Cash\n",
       "4        10000015        27182         Card"
      ]
     },
     "execution_count": 5,
     "metadata": {},
     "output_type": "execute_result"
    }
   ],
   "source": [
    "transaction = pd.read_csv('../input/cabs-fare-data/Transaction_ID.csv')\n",
    "transaction.head(5)"
   ]
  },
  {
   "cell_type": "markdown",
   "id": "00240460",
   "metadata": {
    "papermill": {
     "duration": 0.06236,
     "end_time": "2022-01-25T08:59:22.084517",
     "exception": false,
     "start_time": "2022-01-25T08:59:22.022157",
     "status": "completed"
    },
    "tags": []
   },
   "source": [
    "* Transaction ID\n",
    "* Customer ID\n",
    "* Payment_Mode- mode of payment for the cab ride"
   ]
  },
  {
   "cell_type": "code",
   "execution_count": 6,
   "id": "a86d2482",
   "metadata": {
    "execution": {
     "iopub.execute_input": "2022-01-25T08:59:22.209215Z",
     "iopub.status.busy": "2022-01-25T08:59:22.208587Z",
     "iopub.status.idle": "2022-01-25T08:59:22.211795Z",
     "shell.execute_reply": "2022-01-25T08:59:22.211313Z",
     "shell.execute_reply.started": "2021-08-10T04:59:26.71884Z"
    },
    "papermill": {
     "duration": 0.067494,
     "end_time": "2022-01-25T08:59:22.211931",
     "exception": false,
     "start_time": "2022-01-25T08:59:22.144437",
     "status": "completed"
    },
    "tags": []
   },
   "outputs": [],
   "source": [
    "datasets = [cab, city, customer, transaction]\n",
    "datasets_name = ['cab', 'city', 'customer', 'transaction']"
   ]
  },
  {
   "cell_type": "code",
   "execution_count": 7,
   "id": "cdeddace",
   "metadata": {
    "execution": {
     "iopub.execute_input": "2022-01-25T08:59:22.341520Z",
     "iopub.status.busy": "2022-01-25T08:59:22.340866Z",
     "iopub.status.idle": "2022-01-25T08:59:22.343834Z",
     "shell.execute_reply": "2022-01-25T08:59:22.343349Z",
     "shell.execute_reply.started": "2021-08-10T04:59:26.725501Z"
    },
    "papermill": {
     "duration": 0.072385,
     "end_time": "2022-01-25T08:59:22.343970",
     "exception": false,
     "start_time": "2022-01-25T08:59:22.271585",
     "status": "completed"
    },
    "tags": []
   },
   "outputs": [],
   "source": [
    "#defining some functions\n",
    "def data_info(dataset, name):\n",
    "    print(f'For DataSet :{name}')\n",
    "    print(f'-------------//Shape of dataset- {name} ')\n",
    "    print(dataset.shape)\n",
    "    print(f'-------------//Columns in dataset- {name} ')\n",
    "    print(dataset.columns)\n",
    "    print(f'-------------//Info for dataset- {name} ')\n",
    "    print(dataset.info())\n",
    "    print(f'-------------//Null Values for dataset- {name}')\n",
    "    print(dataset.isnull().sum())\n",
    "    print(f'-------------//Description of dataset- {name}')\n",
    "    print(dataset.describe())\n",
    "    print('')\n",
    "    print('')\n",
    "    print('')\n",
    "   \n",
    "    \n",
    "    \n",
    "def plot_bar(group, title):\n",
    "    plt.figure(figsize=(14,6))\n",
    "    sns.barplot(x=group.index,y=group.values)     \n",
    "    plt.title(title)\n",
    "    plt.xticks(rotation=45)\n",
    "    plt.show()\n",
    "    print(group)\n",
    "    \n",
    "def distribution_graph(dataset, title, x, x_label, color):\n",
    "    plt.figure(figsize=(14,6))\n",
    "    ax=sns.histplot(data = dataset, x=x,bins=40, color= color)\n",
    "    plt.title(title)\n",
    "    plt.ylabel('Frequency')\n",
    "    plt.xlabel(x_label)"
   ]
  },
  {
   "cell_type": "code",
   "execution_count": 8,
   "id": "9c1bce01",
   "metadata": {
    "execution": {
     "iopub.execute_input": "2022-01-25T08:59:22.466666Z",
     "iopub.status.busy": "2022-01-25T08:59:22.466059Z",
     "iopub.status.idle": "2022-01-25T08:59:22.585024Z",
     "shell.execute_reply": "2022-01-25T08:59:22.584463Z",
     "shell.execute_reply.started": "2021-08-10T04:59:26.736912Z"
    },
    "papermill": {
     "duration": 0.180894,
     "end_time": "2022-01-25T08:59:22.585198",
     "exception": false,
     "start_time": "2022-01-25T08:59:22.404304",
     "status": "completed"
    },
    "tags": []
   },
   "outputs": [],
   "source": [
    "#replacing spaces with '_' in column names\n",
    "for col in cab.columns:\n",
    "    if ' ' in col:\n",
    "        cab = cab.rename(columns={col:col.replace(' ','_')})\n",
    "for col in customer.columns:\n",
    "    if ' ' in col:\n",
    "        customer = customer.rename(columns={col:col.replace(' ','_')})\n",
    "for col in city.columns:\n",
    "    if ' ' in col:\n",
    "        city = city.rename(columns={col:col.replace(' ','_')})\n",
    "for col in transaction.columns:\n",
    "    if ' ' in col:\n",
    "        transaction = transaction.rename(columns={col:col.replace(' ','_')})\n"
   ]
  },
  {
   "cell_type": "markdown",
   "id": "28e99aef",
   "metadata": {
    "papermill": {
     "duration": 0.059868,
     "end_time": "2022-01-25T08:59:22.704615",
     "exception": false,
     "start_time": "2022-01-25T08:59:22.644747",
     "status": "completed"
    },
    "tags": []
   },
   "source": [
    "<h2 style=\"color:blue;\">cab dataset</h2>"
   ]
  },
  {
   "cell_type": "code",
   "execution_count": 9,
   "id": "f0c21afe",
   "metadata": {
    "execution": {
     "iopub.execute_input": "2022-01-25T08:59:22.831733Z",
     "iopub.status.busy": "2022-01-25T08:59:22.831052Z",
     "iopub.status.idle": "2022-01-25T08:59:23.130715Z",
     "shell.execute_reply": "2022-01-25T08:59:23.131220Z",
     "shell.execute_reply.started": "2021-08-10T04:59:26.849484Z"
    },
    "papermill": {
     "duration": 0.366783,
     "end_time": "2022-01-25T08:59:23.131425",
     "exception": false,
     "start_time": "2022-01-25T08:59:22.764642",
     "status": "completed"
    },
    "tags": []
   },
   "outputs": [
    {
     "name": "stdout",
     "output_type": "stream",
     "text": [
      "For DataSet :Cab Dataset\n",
      "-------------//Shape of dataset- Cab Dataset \n",
      "(359392, 7)\n",
      "-------------//Columns in dataset- Cab Dataset \n",
      "Index(['Transaction_ID', 'Date_of_Travel', 'Company', 'City', 'KM_Travelled',\n",
      "       'Price_Charged', 'Cost_of_Trip'],\n",
      "      dtype='object')\n",
      "-------------//Info for dataset- Cab Dataset \n",
      "<class 'pandas.core.frame.DataFrame'>\n",
      "RangeIndex: 359392 entries, 0 to 359391\n",
      "Data columns (total 7 columns):\n",
      " #   Column          Non-Null Count   Dtype  \n",
      "---  ------          --------------   -----  \n",
      " 0   Transaction_ID  359392 non-null  int64  \n",
      " 1   Date_of_Travel  359392 non-null  object \n",
      " 2   Company         359392 non-null  object \n",
      " 3   City            359392 non-null  object \n",
      " 4   KM_Travelled    359392 non-null  float64\n",
      " 5   Price_Charged   359392 non-null  float64\n",
      " 6   Cost_of_Trip    359392 non-null  float64\n",
      "dtypes: float64(3), int64(1), object(3)\n",
      "memory usage: 19.2+ MB\n",
      "None\n",
      "-------------//Null Values for dataset- Cab Dataset\n",
      "Transaction_ID    0\n",
      "Date_of_Travel    0\n",
      "Company           0\n",
      "City              0\n",
      "KM_Travelled      0\n",
      "Price_Charged     0\n",
      "Cost_of_Trip      0\n",
      "dtype: int64\n",
      "-------------//Description of dataset- Cab Dataset\n",
      "       Transaction_ID   KM_Travelled  Price_Charged   Cost_of_Trip\n",
      "count    3.593920e+05  359392.000000  359392.000000  359392.000000\n",
      "mean     1.022076e+07      22.567254     423.443311     286.190113\n",
      "std      1.268058e+05      12.233526     274.378911     157.993661\n",
      "min      1.000001e+07       1.900000      15.600000      19.000000\n",
      "25%      1.011081e+07      12.000000     206.437500     151.200000\n",
      "50%      1.022104e+07      22.440000     386.360000     282.480000\n",
      "75%      1.033094e+07      32.960000     583.660000     413.683200\n",
      "max      1.044011e+07      48.000000    2048.030000     691.200000\n",
      "\n",
      "\n",
      "\n"
     ]
    }
   ],
   "source": [
    "data_info(cab, 'Cab Dataset')"
   ]
  },
  {
   "cell_type": "code",
   "execution_count": 10,
   "id": "9c1a217b",
   "metadata": {
    "execution": {
     "iopub.execute_input": "2022-01-25T08:59:23.265276Z",
     "iopub.status.busy": "2022-01-25T08:59:23.264349Z",
     "iopub.status.idle": "2022-01-25T08:59:23.449728Z",
     "shell.execute_reply": "2022-01-25T08:59:23.450280Z",
     "shell.execute_reply.started": "2021-08-10T04:59:27.019953Z"
    },
    "papermill": {
     "duration": 0.258271,
     "end_time": "2022-01-25T08:59:23.450460",
     "exception": false,
     "start_time": "2022-01-25T08:59:23.192189",
     "status": "completed"
    },
    "scrolled": true,
    "tags": []
   },
   "outputs": [],
   "source": [
    "#converting the date format into standard date format\n",
    "cab['Date_of_Travel'] = pd.to_datetime(cab['Date_of_Travel'])\n",
    "cab['Year'] = cab['Date_of_Travel'].dt.year #adding a new 'Year' column\n",
    "cab['Month'] = cab['Date_of_Travel'].dt.month #adding a new 'Month' column\n",
    "\n",
    "cab = cab.drop(['Date_of_Travel'], axis =1 )\n",
    "\n",
    "cab['Profit'] = cab['Price_Charged'] - cab['Cost_of_Trip'] \n",
    "cab['ProfitPercentage'] = ((cab['Price_Charged'] - cab['Cost_of_Trip'])/cab['Cost_of_Trip'])*100\n"
   ]
  },
  {
   "cell_type": "code",
   "execution_count": 11,
   "id": "25d727bf",
   "metadata": {
    "execution": {
     "iopub.execute_input": "2022-01-25T08:59:23.576194Z",
     "iopub.status.busy": "2022-01-25T08:59:23.575244Z",
     "iopub.status.idle": "2022-01-25T08:59:23.809162Z",
     "shell.execute_reply": "2022-01-25T08:59:23.809658Z",
     "shell.execute_reply.started": "2021-08-10T04:59:27.190608Z"
    },
    "papermill": {
     "duration": 0.298741,
     "end_time": "2022-01-25T08:59:23.809823",
     "exception": false,
     "start_time": "2022-01-25T08:59:23.511082",
     "status": "completed"
    },
    "tags": []
   },
   "outputs": [
    {
     "data": {
      "text/html": [
       "<div>\n",
       "<style scoped>\n",
       "    .dataframe tbody tr th:only-of-type {\n",
       "        vertical-align: middle;\n",
       "    }\n",
       "\n",
       "    .dataframe tbody tr th {\n",
       "        vertical-align: top;\n",
       "    }\n",
       "\n",
       "    .dataframe thead th {\n",
       "        text-align: right;\n",
       "    }\n",
       "</style>\n",
       "<table border=\"1\" class=\"dataframe\">\n",
       "  <thead>\n",
       "    <tr style=\"text-align: right;\">\n",
       "      <th></th>\n",
       "      <th>Transaction_ID</th>\n",
       "      <th>Company</th>\n",
       "      <th>City</th>\n",
       "      <th>KM_Travelled</th>\n",
       "      <th>Price_Charged</th>\n",
       "      <th>Cost_of_Trip</th>\n",
       "      <th>Year</th>\n",
       "      <th>Month</th>\n",
       "      <th>Profit</th>\n",
       "      <th>ProfitPercentage</th>\n",
       "      <th>Profit_per_KM</th>\n",
       "    </tr>\n",
       "  </thead>\n",
       "  <tbody>\n",
       "    <tr>\n",
       "      <th>0</th>\n",
       "      <td>10000011</td>\n",
       "      <td>Pink Cab</td>\n",
       "      <td>ATLANTA GA</td>\n",
       "      <td>30.45</td>\n",
       "      <td>370.95</td>\n",
       "      <td>313.635</td>\n",
       "      <td>2016</td>\n",
       "      <td>8</td>\n",
       "      <td>57.315</td>\n",
       "      <td>18.274427</td>\n",
       "      <td>1.882266</td>\n",
       "    </tr>\n",
       "    <tr>\n",
       "      <th>1</th>\n",
       "      <td>10000012</td>\n",
       "      <td>Pink Cab</td>\n",
       "      <td>ATLANTA GA</td>\n",
       "      <td>28.62</td>\n",
       "      <td>358.52</td>\n",
       "      <td>334.854</td>\n",
       "      <td>2016</td>\n",
       "      <td>6</td>\n",
       "      <td>23.666</td>\n",
       "      <td>7.067558</td>\n",
       "      <td>0.826904</td>\n",
       "    </tr>\n",
       "    <tr>\n",
       "      <th>2</th>\n",
       "      <td>10000013</td>\n",
       "      <td>Pink Cab</td>\n",
       "      <td>ATLANTA GA</td>\n",
       "      <td>9.04</td>\n",
       "      <td>125.20</td>\n",
       "      <td>97.632</td>\n",
       "      <td>2016</td>\n",
       "      <td>2</td>\n",
       "      <td>27.568</td>\n",
       "      <td>28.236644</td>\n",
       "      <td>3.049558</td>\n",
       "    </tr>\n",
       "    <tr>\n",
       "      <th>3</th>\n",
       "      <td>10000014</td>\n",
       "      <td>Pink Cab</td>\n",
       "      <td>ATLANTA GA</td>\n",
       "      <td>33.17</td>\n",
       "      <td>377.40</td>\n",
       "      <td>351.602</td>\n",
       "      <td>2016</td>\n",
       "      <td>7</td>\n",
       "      <td>25.798</td>\n",
       "      <td>7.337273</td>\n",
       "      <td>0.777751</td>\n",
       "    </tr>\n",
       "    <tr>\n",
       "      <th>4</th>\n",
       "      <td>10000015</td>\n",
       "      <td>Pink Cab</td>\n",
       "      <td>ATLANTA GA</td>\n",
       "      <td>8.73</td>\n",
       "      <td>114.62</td>\n",
       "      <td>97.776</td>\n",
       "      <td>2016</td>\n",
       "      <td>3</td>\n",
       "      <td>16.844</td>\n",
       "      <td>17.227131</td>\n",
       "      <td>1.929439</td>\n",
       "    </tr>\n",
       "  </tbody>\n",
       "</table>\n",
       "</div>"
      ],
      "text/plain": [
       "   Transaction_ID   Company        City  KM_Travelled  Price_Charged  \\\n",
       "0        10000011  Pink Cab  ATLANTA GA         30.45         370.95   \n",
       "1        10000012  Pink Cab  ATLANTA GA         28.62         358.52   \n",
       "2        10000013  Pink Cab  ATLANTA GA          9.04         125.20   \n",
       "3        10000014  Pink Cab  ATLANTA GA         33.17         377.40   \n",
       "4        10000015  Pink Cab  ATLANTA GA          8.73         114.62   \n",
       "\n",
       "   Cost_of_Trip  Year  Month  Profit  ProfitPercentage  Profit_per_KM  \n",
       "0       313.635  2016      8  57.315         18.274427       1.882266  \n",
       "1       334.854  2016      6  23.666          7.067558       0.826904  \n",
       "2        97.632  2016      2  27.568         28.236644       3.049558  \n",
       "3       351.602  2016      7  25.798          7.337273       0.777751  \n",
       "4        97.776  2016      3  16.844         17.227131       1.929439  "
      ]
     },
     "execution_count": 11,
     "metadata": {},
     "output_type": "execute_result"
    }
   ],
   "source": [
    "cab.replace([np.inf, -np.inf], np.nan)\n",
    "cab['Profit_per_KM'] = cab['Profit']/ cab['KM_Travelled']\n",
    "cab.head()"
   ]
  },
  {
   "cell_type": "code",
   "execution_count": 12,
   "id": "2d5b9cb3",
   "metadata": {
    "execution": {
     "iopub.execute_input": "2022-01-25T08:59:23.935667Z",
     "iopub.status.busy": "2022-01-25T08:59:23.934982Z",
     "iopub.status.idle": "2022-01-25T08:59:24.016768Z",
     "shell.execute_reply": "2022-01-25T08:59:24.016225Z",
     "shell.execute_reply.started": "2021-08-10T04:59:27.332472Z"
    },
    "papermill": {
     "duration": 0.145115,
     "end_time": "2022-01-25T08:59:24.016917",
     "exception": false,
     "start_time": "2022-01-25T08:59:23.871802",
     "status": "completed"
    },
    "tags": []
   },
   "outputs": [],
   "source": [
    "#getting the counts for Month, Year, Company and City column\n",
    "month = cab.groupby(['Month']).Transaction_ID.count()\n",
    "year = cab.groupby(['Year']).Transaction_ID.count()\n",
    "company = cab.groupby(['Company']).Transaction_ID.count()\n",
    "city_cab = cab.groupby(['City']).Transaction_ID.count()"
   ]
  },
  {
   "cell_type": "code",
   "execution_count": 13,
   "id": "294333d2",
   "metadata": {
    "execution": {
     "iopub.execute_input": "2022-01-25T08:59:24.163569Z",
     "iopub.status.busy": "2022-01-25T08:59:24.162890Z",
     "iopub.status.idle": "2022-01-25T08:59:24.955081Z",
     "shell.execute_reply": "2022-01-25T08:59:24.955594Z",
     "shell.execute_reply.started": "2021-08-10T04:59:27.401226Z"
    },
    "papermill": {
     "duration": 0.877139,
     "end_time": "2022-01-25T08:59:24.955761",
     "exception": false,
     "start_time": "2022-01-25T08:59:24.078622",
     "status": "completed"
    },
    "tags": []
   },
   "outputs": [
    {
     "data": {
      "image/png": "[encoded data removed]",
      "text/plain": [
       "<Figure size 1008x432 with 1 Axes>"
      ]
     },
     "metadata": {
      "needs_background": "light"
     },
     "output_type": "display_data"
    },
    {
     "name": "stdout",
     "output_type": "stream",
     "text": [
      "Company\n",
      "Pink Cab       84711\n",
      "Yellow Cab    274681\n",
      "Name: Transaction_ID, dtype: int64\n"
     ]
    },
    {
     "data": {
      "image/png": "[encoded data removed]",
      "text/plain": [
       "<Figure size 1008x432 with 1 Axes>"
      ]
     },
     "metadata": {
      "needs_background": "light"
     },
     "output_type": "display_data"
    },
    {
     "name": "stdout",
     "output_type": "stream",
     "text": [
      "Month\n",
      "1     21842\n",
      "2     22031\n",
      "3     26478\n",
      "4     24195\n",
      "5     27459\n",
      "6     26939\n",
      "7     30225\n",
      "8     32038\n",
      "9     33895\n",
      "10    39209\n",
      "11    35217\n",
      "12    39864\n",
      "Name: Transaction_ID, dtype: int64\n"
     ]
    },
    {
     "data": {
      "image/png": "[encoded data removed]",
      "text/plain": [
       "<Figure size 1008x432 with 1 Axes>"
      ]
     },
     "metadata": {
      "needs_background": "light"
     },
     "output_type": "display_data"
    },
    {
     "name": "stdout",
     "output_type": "stream",
     "text": [
      "Year\n",
      "2016    107319\n",
      "2017    128510\n",
      "2018    123563\n",
      "Name: Transaction_ID, dtype: int64\n"
     ]
    },
    {
     "data": {
      "image/png": "[encoded data removed]",
      "text/plain": [
       "<Figure size 1008x432 with 1 Axes>"
      ]
     },
     "metadata": {
      "needs_background": "light"
     },
     "output_type": "display_data"
    },
    {
     "name": "stdout",
     "output_type": "stream",
     "text": [
      "City\n",
      "ATLANTA GA         7557\n",
      "AUSTIN TX          4896\n",
      "BOSTON MA         29692\n",
      "CHICAGO IL        56625\n",
      "DALLAS TX          7017\n",
      "DENVER CO          3825\n",
      "LOS ANGELES CA    48033\n",
      "MIAMI FL           6454\n",
      "NASHVILLE TN       3010\n",
      "NEW YORK NY       99885\n",
      "ORANGE COUNTY      3982\n",
      "PHOENIX AZ         2064\n",
      "PITTSBURGH PA      1313\n",
      "SACRAMENTO CA      2367\n",
      "SAN DIEGO CA      20488\n",
      "SEATTLE WA         7997\n",
      "SILICON VALLEY     8519\n",
      "TUCSON AZ          1931\n",
      "WASHINGTON DC     43737\n",
      "Name: Transaction_ID, dtype: int64\n"
     ]
    }
   ],
   "source": [
    "#visually displaying the counts with the tabluar data below it\n",
    "\n",
    "groups = [company, month, year,city_cab]\n",
    "names = ['company', 'month', 'year','city']\n",
    "i=0    \n",
    "for group in groups:\n",
    "    title = 'Travel Frequency ' + names[i]\n",
    "    plot_bar(group, title)\n",
    "    i +=1"
   ]
  },
  {
   "cell_type": "markdown",
   "id": "33b4f27e",
   "metadata": {
    "papermill": {
     "duration": 0.067007,
     "end_time": "2022-01-25T08:59:25.091560",
     "exception": false,
     "start_time": "2022-01-25T08:59:25.024553",
     "status": "completed"
    },
    "tags": []
   },
   "source": [
    "<h4 style=\"color:green;\">Yellow Cab is used more than Pink Cab. 76.4% of the rides are by Yellow Cab </h4>\n",
    "<h4 style=\"color:green;\">November and December (10 and 12) have the most rides. Jan and Feb being the least</h4>\n",
    "<h4 style=\"color:green;\">2018 has the highest cab rides but the 'Year\" column approximately has fairly distributed data </h4>\n",
    "<h4 style=\"color:green;\">NEW YORK NY has the highest number of rides vs PITTSBURGH PA with lowest  </h4>"
   ]
  },
  {
   "cell_type": "code",
   "execution_count": 14,
   "id": "1c5439ab",
   "metadata": {
    "execution": {
     "iopub.execute_input": "2022-01-25T08:59:25.230150Z",
     "iopub.status.busy": "2022-01-25T08:59:25.229499Z",
     "iopub.status.idle": "2022-01-25T08:59:25.646846Z",
     "shell.execute_reply": "2022-01-25T08:59:25.647322Z",
     "shell.execute_reply.started": "2021-08-10T04:59:28.088538Z"
    },
    "papermill": {
     "duration": 0.489472,
     "end_time": "2022-01-25T08:59:25.647499",
     "exception": false,
     "start_time": "2022-01-25T08:59:25.158027",
     "status": "completed"
    },
    "tags": []
   },
   "outputs": [
    {
     "data": {
      "image/png": "[encoded data removed]",
      "text/plain": [
       "<Figure size 1008x432 with 1 Axes>"
      ]
     },
     "metadata": {
      "needs_background": "light"
     },
     "output_type": "display_data"
    }
   ],
   "source": [
    "distribution_graph(cab, 'KM travel frequency distribtion', 'KM_Travelled', 'KM Travelled', '#ce9be9' )"
   ]
  },
  {
   "cell_type": "markdown",
   "id": "f78f0eaa",
   "metadata": {
    "papermill": {
     "duration": 0.06685,
     "end_time": "2022-01-25T08:59:25.781750",
     "exception": false,
     "start_time": "2022-01-25T08:59:25.714900",
     "status": "completed"
    },
    "tags": []
   },
   "source": [
    "<h4 style=\"color:green;\">After 40KM there is gradual linear decrease in number of rides</h4>"
   ]
  },
  {
   "cell_type": "code",
   "execution_count": 15,
   "id": "44d0a1c2",
   "metadata": {
    "execution": {
     "iopub.execute_input": "2022-01-25T08:59:25.920407Z",
     "iopub.status.busy": "2022-01-25T08:59:25.919464Z",
     "iopub.status.idle": "2022-01-25T08:59:26.245309Z",
     "shell.execute_reply": "2022-01-25T08:59:26.244765Z",
     "shell.execute_reply.started": "2021-08-10T04:59:28.465001Z"
    },
    "papermill": {
     "duration": 0.395857,
     "end_time": "2022-01-25T08:59:26.245475",
     "exception": false,
     "start_time": "2022-01-25T08:59:25.849618",
     "status": "completed"
    },
    "scrolled": true,
    "tags": []
   },
   "outputs": [
    {
     "data": {
      "image/png": "[encoded data removed]",
      "text/plain": [
       "<Figure size 1008x432 with 1 Axes>"
      ]
     },
     "metadata": {
      "needs_background": "light"
     },
     "output_type": "display_data"
    }
   ],
   "source": [
    "distribution_graph(cab, 'Price Charged frequency distribtion', 'Price_Charged', 'Price Charged', '#50acc3' )"
   ]
  },
  {
   "cell_type": "markdown",
   "id": "4d355ecb",
   "metadata": {
    "papermill": {
     "duration": 0.071469,
     "end_time": "2022-01-25T08:59:26.385704",
     "exception": false,
     "start_time": "2022-01-25T08:59:26.314235",
     "status": "completed"
    },
    "tags": []
   },
   "source": [
    "<h4 style=\"color:green;\">After 400, there is an exponential decrease in number of rides</h4>"
   ]
  },
  {
   "cell_type": "code",
   "execution_count": 16,
   "id": "5c959254",
   "metadata": {
    "execution": {
     "iopub.execute_input": "2022-01-25T08:59:26.525444Z",
     "iopub.status.busy": "2022-01-25T08:59:26.524460Z",
     "iopub.status.idle": "2022-01-25T08:59:26.847815Z",
     "shell.execute_reply": "2022-01-25T08:59:26.848290Z",
     "shell.execute_reply.started": "2021-08-10T04:59:28.763392Z"
    },
    "papermill": {
     "duration": 0.394653,
     "end_time": "2022-01-25T08:59:26.848467",
     "exception": false,
     "start_time": "2022-01-25T08:59:26.453814",
     "status": "completed"
    },
    "scrolled": true,
    "tags": []
   },
   "outputs": [
    {
     "data": {
      "image/png": "[encoded data removed]",
      "text/plain": [
       "<Figure size 1008x432 with 1 Axes>"
      ]
     },
     "metadata": {
      "needs_background": "light"
     },
     "output_type": "display_data"
    }
   ],
   "source": [
    "distribution_graph(cab, 'Cost of Trip frequency distribtion', 'Cost_of_Trip', 'Cost of Trip', '#e79683' )"
   ]
  },
  {
   "cell_type": "markdown",
   "id": "5d866e93",
   "metadata": {
    "papermill": {
     "duration": 0.068448,
     "end_time": "2022-01-25T08:59:26.985851",
     "exception": false,
     "start_time": "2022-01-25T08:59:26.917403",
     "status": "completed"
    },
    "tags": []
   },
   "source": [
    "<h4 style=\"color:green;\">After around 420 there is linear decrease in number of rides  till it reaches 0 around700</h4>"
   ]
  },
  {
   "cell_type": "code",
   "execution_count": 17,
   "id": "80c09baf",
   "metadata": {
    "execution": {
     "iopub.execute_input": "2022-01-25T08:59:27.127544Z",
     "iopub.status.busy": "2022-01-25T08:59:27.126537Z",
     "iopub.status.idle": "2022-01-25T08:59:27.424278Z",
     "shell.execute_reply": "2022-01-25T08:59:27.423665Z",
     "shell.execute_reply.started": "2021-08-10T04:59:29.048262Z"
    },
    "papermill": {
     "duration": 0.369386,
     "end_time": "2022-01-25T08:59:27.424441",
     "exception": false,
     "start_time": "2022-01-25T08:59:27.055055",
     "status": "completed"
    },
    "tags": []
   },
   "outputs": [
    {
     "data": {
      "image/png": "[encoded data removed]",
      "text/plain": [
       "<Figure size 1008x432 with 1 Axes>"
      ]
     },
     "metadata": {
      "needs_background": "light"
     },
     "output_type": "display_data"
    }
   ],
   "source": [
    "distribution_graph(cab, 'Profit per KM frequency distribtion', 'Profit_per_KM', 'Profit per KM', '#ce9be9' )"
   ]
  },
  {
   "cell_type": "markdown",
   "id": "ad4c08bb",
   "metadata": {
    "papermill": {
     "duration": 0.069208,
     "end_time": "2022-01-25T08:59:27.563476",
     "exception": false,
     "start_time": "2022-01-25T08:59:27.494268",
     "status": "completed"
    },
    "tags": []
   },
   "source": [
    "<h4 style=\"color:green;\">Profit per KM is skewed towards right with few outliers</h4>"
   ]
  },
  {
   "cell_type": "code",
   "execution_count": 18,
   "id": "c32ddbc6",
   "metadata": {
    "execution": {
     "iopub.execute_input": "2022-01-25T08:59:27.710380Z",
     "iopub.status.busy": "2022-01-25T08:59:27.709185Z",
     "iopub.status.idle": "2022-01-25T08:59:27.868462Z",
     "shell.execute_reply": "2022-01-25T08:59:27.869200Z",
     "shell.execute_reply.started": "2021-08-10T04:59:29.337201Z"
    },
    "papermill": {
     "duration": 0.236609,
     "end_time": "2022-01-25T08:59:27.869439",
     "exception": false,
     "start_time": "2022-01-25T08:59:27.632830",
     "status": "completed"
    },
    "tags": []
   },
   "outputs": [
    {
     "data": {
      "image/png": "[encoded data removed]",
      "text/plain": [
       "<Figure size 648x216 with 1 Axes>"
      ]
     },
     "metadata": {
      "needs_background": "light"
     },
     "output_type": "display_data"
    },
    {
     "name": "stdout",
     "output_type": "stream",
     "text": [
      "            KM_Travelled\n",
      "Company                 \n",
      "Pink Cab       22.559917\n",
      "Yellow Cab     22.569517\n"
     ]
    }
   ],
   "source": [
    "new = cab[[\"Company\", \"KM_Travelled\"]]\n",
    "new_df = (new.groupby(\"Company\").mean()).sort_values(by=\"KM_Travelled\")\n",
    "\n",
    "#visualization\n",
    "plt.figure(figsize = (9,3))\n",
    "plt.bar(new_df.index,new_df[\"KM_Travelled\"])\n",
    "plt.ylabel(\"KM\")\n",
    "plt.title(\"Avarage Trip Long\")\n",
    "plt.show()\n",
    "\n",
    "print(new_df)\n"
   ]
  },
  {
   "cell_type": "markdown",
   "id": "6b28858b",
   "metadata": {
    "papermill": {
     "duration": 0.070207,
     "end_time": "2022-01-25T08:59:28.011386",
     "exception": false,
     "start_time": "2022-01-25T08:59:27.941179",
     "status": "completed"
    },
    "tags": []
   },
   "source": [
    "<h4 style=\"color:green;\">Both the companies have same average KM travelled</h4>"
   ]
  },
  {
   "cell_type": "code",
   "execution_count": 19,
   "id": "6571a471",
   "metadata": {
    "execution": {
     "iopub.execute_input": "2022-01-25T08:59:28.166465Z",
     "iopub.status.busy": "2022-01-25T08:59:28.165690Z",
     "iopub.status.idle": "2022-01-25T08:59:28.318660Z",
     "shell.execute_reply": "2022-01-25T08:59:28.319413Z",
     "shell.execute_reply.started": "2021-08-10T04:59:29.476988Z"
    },
    "papermill": {
     "duration": 0.235847,
     "end_time": "2022-01-25T08:59:28.319631",
     "exception": false,
     "start_time": "2022-01-25T08:59:28.083784",
     "status": "completed"
    },
    "tags": []
   },
   "outputs": [
    {
     "data": {
      "image/png": "[encoded data removed]",
      "text/plain": [
       "<Figure size 648x216 with 1 Axes>"
      ]
     },
     "metadata": {
      "needs_background": "light"
     },
     "output_type": "display_data"
    },
    {
     "name": "stdout",
     "output_type": "stream",
     "text": [
      "       KM_Travelled\n",
      "Month              \n",
      "5         22.405801\n",
      "9         22.527838\n",
      "8         22.537612\n",
      "6         22.554316\n",
      "3         22.555264\n",
      "2         22.569511\n",
      "4         22.581677\n",
      "10        22.593497\n",
      "11        22.597415\n",
      "1         22.603980\n",
      "12        22.604417\n",
      "7         22.653659\n"
     ]
    }
   ],
   "source": [
    "new2 = cab[[\"Month\", \"KM_Travelled\"]]\n",
    "new_df2 = (new2.groupby(\"Month\").mean()).sort_values(by=\"KM_Travelled\")\n",
    "\n",
    "#visualization\n",
    "plt.figure(figsize = (9,3))\n",
    "plt.bar(new_df2.index,new_df2[\"KM_Travelled\"])\n",
    "plt.ylabel(\"KM\")\n",
    "plt.title(\"Avarage Trip Long\")\n",
    "plt.show()\n",
    "\n",
    "print(new_df2)"
   ]
  },
  {
   "cell_type": "code",
   "execution_count": 20,
   "id": "942930ed",
   "metadata": {
    "execution": {
     "iopub.execute_input": "2022-01-25T08:59:28.472611Z",
     "iopub.status.busy": "2022-01-25T08:59:28.471925Z",
     "iopub.status.idle": "2022-01-25T08:59:28.692892Z",
     "shell.execute_reply": "2022-01-25T08:59:28.693456Z",
     "shell.execute_reply.started": "2021-08-10T04:59:29.629232Z"
    },
    "papermill": {
     "duration": 0.299012,
     "end_time": "2022-01-25T08:59:28.693635",
     "exception": false,
     "start_time": "2022-01-25T08:59:28.394623",
     "status": "completed"
    },
    "scrolled": true,
    "tags": []
   },
   "outputs": [
    {
     "data": {
      "image/png": "[encoded data removed]",
      "text/plain": [
       "<Figure size 432x288 with 1 Axes>"
      ]
     },
     "metadata": {
      "needs_background": "light"
     },
     "output_type": "display_data"
    },
    {
     "name": "stdout",
     "output_type": "stream",
     "text": [
      "Company  Pink Cab  Yellow Cab\n",
      "Year                         \n",
      "2016        25080       82239\n",
      "2017        30321       98189\n",
      "2018        29310       94253\n"
     ]
    }
   ],
   "source": [
    "counts = cab.groupby(['Year','Company']).Transaction_ID.count().unstack()\n",
    "ax = counts.plot(kind='bar',stacked = False)\n",
    "plt.show()\n",
    "print(counts)"
   ]
  },
  {
   "cell_type": "markdown",
   "id": "e7583d77",
   "metadata": {
    "papermill": {
     "duration": 0.073808,
     "end_time": "2022-01-25T08:59:28.840379",
     "exception": false,
     "start_time": "2022-01-25T08:59:28.766571",
     "status": "completed"
    },
    "tags": []
   },
   "source": [
    "<h4 style=\"color:green;\">On an average Pink cab contributes to 23% in total cab count for all three years</h4>"
   ]
  },
  {
   "cell_type": "code",
   "execution_count": 21,
   "id": "d43d839f",
   "metadata": {
    "execution": {
     "iopub.execute_input": "2022-01-25T08:59:28.993020Z",
     "iopub.status.busy": "2022-01-25T08:59:28.992024Z",
     "iopub.status.idle": "2022-01-25T08:59:29.263403Z",
     "shell.execute_reply": "2022-01-25T08:59:29.263885Z",
     "shell.execute_reply.started": "2021-08-10T04:59:29.821393Z"
    },
    "papermill": {
     "duration": 0.350508,
     "end_time": "2022-01-25T08:59:29.264064",
     "exception": false,
     "start_time": "2022-01-25T08:59:28.913556",
     "status": "completed"
    },
    "scrolled": true,
    "tags": []
   },
   "outputs": [
    {
     "data": {
      "image/png": "[encoded data removed]",
      "text/plain": [
       "<Figure size 432x288 with 1 Axes>"
      ]
     },
     "metadata": {
      "needs_background": "light"
     },
     "output_type": "display_data"
    },
    {
     "name": "stdout",
     "output_type": "stream",
     "text": [
      "Company  Pink Cab  Yellow Cab\n",
      "Month                        \n",
      "1            4734       17108\n",
      "2            4693       17338\n",
      "3            5724       20754\n",
      "4            5118       19077\n",
      "5            6150       21309\n",
      "6            6371       20568\n",
      "7            7048       23177\n",
      "8            8011       24027\n",
      "9            8518       25377\n",
      "10           9936       29273\n",
      "11           8679       26538\n",
      "12           9729       30135\n"
     ]
    }
   ],
   "source": [
    "counts = cab.groupby(['Month','Company']).Transaction_ID.count().unstack()\n",
    "ax = counts.plot(kind='bar',stacked = False)\n",
    "plt.show()\n",
    "print(counts)"
   ]
  },
  {
   "cell_type": "markdown",
   "id": "0973a448",
   "metadata": {
    "papermill": {
     "duration": 0.074592,
     "end_time": "2022-01-25T08:59:29.412578",
     "exception": false,
     "start_time": "2022-01-25T08:59:29.337986",
     "status": "completed"
    },
    "tags": []
   },
   "source": [
    "<h4 style=\"color:green;\">The percantage contribution of Pink Cab in number of cabs remain more or less same for all the months</h4>"
   ]
  },
  {
   "cell_type": "code",
   "execution_count": 22,
   "id": "69a24025",
   "metadata": {
    "execution": {
     "iopub.execute_input": "2022-01-25T08:59:29.566931Z",
     "iopub.status.busy": "2022-01-25T08:59:29.566296Z",
     "iopub.status.idle": "2022-01-25T08:59:29.761656Z",
     "shell.execute_reply": "2022-01-25T08:59:29.762262Z",
     "shell.execute_reply.started": "2021-08-10T04:59:30.049422Z"
    },
    "papermill": {
     "duration": 0.276256,
     "end_time": "2022-01-25T08:59:29.762467",
     "exception": false,
     "start_time": "2022-01-25T08:59:29.486211",
     "status": "completed"
    },
    "scrolled": true,
    "tags": []
   },
   "outputs": [
    {
     "data": {
      "image/png": "[encoded data removed]",
      "text/plain": [
       "<Figure size 432x288 with 1 Axes>"
      ]
     },
     "metadata": {
      "needs_background": "light"
     },
     "output_type": "display_data"
    },
    {
     "name": "stdout",
     "output_type": "stream",
     "text": [
      "Company   Pink Cab  Yellow Cab\n",
      "Year                          \n",
      "2016     27.910304   57.214209\n",
      "2017     27.319440   57.244999\n",
      "2018     21.727509   48.679429\n"
     ]
    }
   ],
   "source": [
    "counts = cab.groupby(['Year','Company']).ProfitPercentage.mean().unstack()\n",
    "ax = counts.plot(kind='bar',stacked = False)\n",
    "plt.show()\n",
    "print(counts)"
   ]
  },
  {
   "cell_type": "markdown",
   "id": "ca8194f8",
   "metadata": {
    "papermill": {
     "duration": 0.075795,
     "end_time": "2022-01-25T08:59:29.913880",
     "exception": false,
     "start_time": "2022-01-25T08:59:29.838085",
     "status": "completed"
    },
    "tags": []
   },
   "source": [
    "<h4 style=\"color:green;\">Mean Profit for Pink Cab on an Average for the three years is around 17-18</h4>\n",
    "<h4 style=\"color:green;\">Mean Profit for Yellow Cab on an Average for the three years is around 28-31</h4>"
   ]
  },
  {
   "cell_type": "code",
   "execution_count": 23,
   "id": "559e5028",
   "metadata": {
    "execution": {
     "iopub.execute_input": "2022-01-25T08:59:30.069535Z",
     "iopub.status.busy": "2022-01-25T08:59:30.068813Z",
     "iopub.status.idle": "2022-01-25T08:59:30.375288Z",
     "shell.execute_reply": "2022-01-25T08:59:30.374566Z",
     "shell.execute_reply.started": "2021-08-10T04:59:30.21803Z"
    },
    "papermill": {
     "duration": 0.386949,
     "end_time": "2022-01-25T08:59:30.375480",
     "exception": false,
     "start_time": "2022-01-25T08:59:29.988531",
     "status": "completed"
    },
    "scrolled": true,
    "tags": []
   },
   "outputs": [
    {
     "data": {
      "image/png": "[encoded data removed]",
      "text/plain": [
       "<Figure size 432x288 with 1 Axes>"
      ]
     },
     "metadata": {
      "needs_background": "light"
     },
     "output_type": "display_data"
    },
    {
     "name": "stdout",
     "output_type": "stream",
     "text": [
      "Company   Pink Cab  Yellow Cab\n",
      "Month                         \n",
      "1        25.788607   58.576844\n",
      "2        27.499876   61.410604\n",
      "3        28.448711   58.920636\n",
      "4        22.125875   57.052153\n",
      "5        20.698423   65.309188\n",
      "6        21.470962   60.316722\n",
      "7        21.302683   49.538838\n",
      "8        23.070940   46.064588\n",
      "9        24.195375   54.085749\n",
      "10       27.928672   49.722187\n",
      "11       26.574888   47.300809\n",
      "12       33.371083   51.953357\n"
     ]
    }
   ],
   "source": [
    "counts = cab.groupby(['Month','Company']).ProfitPercentage.mean().unstack()\n",
    "ax = counts.plot(kind='bar',stacked = False)\n",
    "plt.show()\n",
    "print(counts)"
   ]
  },
  {
   "cell_type": "markdown",
   "id": "3fe718b6",
   "metadata": {
    "papermill": {
     "duration": 0.075963,
     "end_time": "2022-01-25T08:59:30.530730",
     "exception": false,
     "start_time": "2022-01-25T08:59:30.454767",
     "status": "completed"
    },
    "tags": []
   },
   "source": [
    "<h4 style=\"color:green;\">Highest Profit Percentage of Pink Cab was for the months- March and December, lowest for the months- June and July </h4>\n",
    "<h4 style=\"color:green;\">Highest Profit Percentage of Yellow Cab was for the months- May, Feb Jan and June, lowest for the months- August and July</h4>"
   ]
  },
  {
   "cell_type": "code",
   "execution_count": 24,
   "id": "01b35ba3",
   "metadata": {
    "execution": {
     "iopub.execute_input": "2022-01-25T08:59:30.689076Z",
     "iopub.status.busy": "2022-01-25T08:59:30.688423Z",
     "iopub.status.idle": "2022-01-25T08:59:30.780536Z",
     "shell.execute_reply": "2022-01-25T08:59:30.779801Z",
     "shell.execute_reply.started": "2021-08-10T04:59:30.460697Z"
    },
    "papermill": {
     "duration": 0.174008,
     "end_time": "2022-01-25T08:59:30.780729",
     "exception": false,
     "start_time": "2022-01-25T08:59:30.606721",
     "status": "completed"
    },
    "scrolled": true,
    "tags": []
   },
   "outputs": [
    {
     "name": "stdout",
     "output_type": "stream",
     "text": [
      "Company   Pink Cab  Yellow Cab\n",
      "Year                          \n",
      "2016     68.321819  169.347821\n",
      "2017     67.070839  168.817057\n",
      "2018     53.229689  143.416122\n",
      "Company   Pink Cab  Yellow Cab\n",
      "Month                         \n",
      "1        25.788607   58.576844\n",
      "2        27.499876   61.410604\n",
      "3        28.448711   58.920636\n",
      "4        22.125875   57.052153\n",
      "5        20.698423   65.309188\n",
      "6        21.470962   60.316722\n",
      "7        21.302683   49.538838\n",
      "8        23.070940   46.064588\n",
      "9        24.195375   54.085749\n",
      "10       27.928672   49.722187\n",
      "11       26.574888   47.300809\n",
      "12       33.371083   51.953357\n"
     ]
    }
   ],
   "source": [
    "counts = cab.groupby(['Year','Company']).Profit.mean().unstack()\n",
    "print(counts)\n",
    "counts = cab.groupby(['Month','Company']).ProfitPercentage.mean().unstack()\n",
    "print(counts)"
   ]
  },
  {
   "cell_type": "markdown",
   "id": "36deed4d",
   "metadata": {
    "papermill": {
     "duration": 0.076091,
     "end_time": "2022-01-25T08:59:30.934289",
     "exception": false,
     "start_time": "2022-01-25T08:59:30.858198",
     "status": "completed"
    },
    "tags": []
   },
   "source": [
    "<h4 style=\"color:green;\">Unlike Profit Percentage highest profit average of Pink Cab is in moth of December and lowest from May to July</h4>\n",
    "<h4 style=\"color:green;\">Unlike Profit Percentage highest profit average of Yellow Cab is in moth of Jan and Feb and lowest for August</h4>"
   ]
  },
  {
   "cell_type": "code",
   "execution_count": 25,
   "id": "8f63a382",
   "metadata": {
    "execution": {
     "iopub.execute_input": "2022-01-25T08:59:31.107167Z",
     "iopub.status.busy": "2022-01-25T08:59:31.106198Z",
     "iopub.status.idle": "2022-01-25T08:59:36.818793Z",
     "shell.execute_reply": "2022-01-25T08:59:36.819354Z",
     "shell.execute_reply.started": "2021-08-10T04:59:30.541719Z"
    },
    "papermill": {
     "duration": 5.807549,
     "end_time": "2022-01-25T08:59:36.819526",
     "exception": false,
     "start_time": "2022-01-25T08:59:31.011977",
     "status": "completed"
    },
    "tags": []
   },
   "outputs": [
    {
     "data": {
      "image/png": "[encoded data removed]",
      "text/plain": [
       "<Figure size 1008x432 with 1 Axes>"
      ]
     },
     "metadata": {
      "needs_background": "light"
     },
     "output_type": "display_data"
    }
   ],
   "source": [
    "df = cab.groupby(['City', 'Company']).agg(Profit_per_KM = (\"Profit_per_KM\", 'mean'))\n",
    "df = cab.reset_index()\n",
    "dims = (14, 6)\n",
    "fig, ax = plt.subplots(figsize= dims)\n",
    "# plot barplot\n",
    "g = sns.barplot(x=\"City\", y=\"Profit_per_KM\", hue=\"Company\", ax=ax, data=df);\n",
    "var = g.set_xticklabels(g.get_xticklabels(), rotation=90)"
   ]
  },
  {
   "cell_type": "markdown",
   "id": "fcb6c467",
   "metadata": {
    "papermill": {
     "duration": 0.079201,
     "end_time": "2022-01-25T08:59:36.976378",
     "exception": false,
     "start_time": "2022-01-25T08:59:36.897177",
     "status": "completed"
    },
    "tags": []
   },
   "source": [
    "<h4 style=\"color:green;\">In the above graph of Profit per KM, New York yields highest profits in terms of distance for both the companies.</h4>\n",
    "<h4 style=\"color:green;\">Dallas has lowest value in terms of profit per km for Pink Cab, and same goes for Sacramento for Yellow Cab </h4>"
   ]
  },
  {
   "cell_type": "code",
   "execution_count": 26,
   "id": "81b79c1c",
   "metadata": {
    "execution": {
     "iopub.execute_input": "2022-01-25T08:59:37.137308Z",
     "iopub.status.busy": "2022-01-25T08:59:37.136382Z",
     "iopub.status.idle": "2022-01-25T08:59:37.760284Z",
     "shell.execute_reply": "2022-01-25T08:59:37.761000Z",
     "shell.execute_reply.started": "2021-08-10T04:59:35.6534Z"
    },
    "papermill": {
     "duration": 0.706011,
     "end_time": "2022-01-25T08:59:37.761197",
     "exception": false,
     "start_time": "2022-01-25T08:59:37.055186",
     "status": "completed"
    },
    "tags": []
   },
   "outputs": [
    {
     "data": {
      "image/png": "[encoded data removed]",
      "text/plain": [
       "<Figure size 432x288 with 1 Axes>"
      ]
     },
     "metadata": {
      "needs_background": "light"
     },
     "output_type": "display_data"
    },
    {
     "name": "stdout",
     "output_type": "stream",
     "text": [
      "Company  Pink Cab  Yellow Cab\n",
      "Year                         \n",
      "2016     3.026813    7.489847\n",
      "2017     2.962883    7.494612\n",
      "2018     2.350447    6.364805\n"
     ]
    },
    {
     "data": {
      "image/png": "[encoded data removed]",
      "text/plain": [
       "<Figure size 432x288 with 1 Axes>"
      ]
     },
     "metadata": {
      "needs_background": "light"
     },
     "output_type": "display_data"
    },
    {
     "name": "stdout",
     "output_type": "stream",
     "text": [
      "Company  Pink Cab  Yellow Cab\n",
      "Month                        \n",
      "1        2.793438    7.665865\n",
      "2        2.979268    8.044605\n",
      "3        3.092925    7.714993\n",
      "4        2.393796    7.466042\n",
      "5        2.234797    8.552041\n",
      "6        2.320152    7.897677\n",
      "7        2.303050    6.478925\n",
      "8        2.496543    6.022029\n",
      "9        2.620842    7.080664\n",
      "10       3.024953    6.504155\n",
      "11       2.884635    6.183048\n",
      "12       3.629052    6.798749\n"
     ]
    }
   ],
   "source": [
    "counts = cab.groupby(['Year','Company']).Profit_per_KM.mean().unstack()\n",
    "ax = counts.plot(kind='bar',stacked = False)\n",
    "plt.show()\n",
    "print(counts)\n",
    "\n",
    "counts = cab.groupby(['Month','Company']).Profit_per_KM.mean().unstack()\n",
    "ax = counts.plot(kind='bar',stacked = False)\n",
    "plt.show()\n",
    "print(counts)"
   ]
  },
  {
   "cell_type": "markdown",
   "id": "077de613",
   "metadata": {
    "papermill": {
     "duration": 0.079664,
     "end_time": "2022-01-25T08:59:37.922291",
     "exception": false,
     "start_time": "2022-01-25T08:59:37.842627",
     "status": "completed"
    },
    "tags": []
   },
   "source": [
    "<h4 style=\"color:green;\">Average distance travelled is constant with time over all three years and around 12 months</h4>"
   ]
  },
  {
   "cell_type": "markdown",
   "id": "ba63789b",
   "metadata": {
    "papermill": {
     "duration": 0.080088,
     "end_time": "2022-01-25T08:59:38.082928",
     "exception": false,
     "start_time": "2022-01-25T08:59:38.002840",
     "status": "completed"
    },
    "tags": []
   },
   "source": [
    "<h2 style=\"color:blue;\">customer dataset</h2>"
   ]
  },
  {
   "cell_type": "code",
   "execution_count": 27,
   "id": "0616e593",
   "metadata": {
    "execution": {
     "iopub.execute_input": "2022-01-25T08:59:38.253650Z",
     "iopub.status.busy": "2022-01-25T08:59:38.246060Z",
     "iopub.status.idle": "2022-01-25T08:59:38.257596Z",
     "shell.execute_reply": "2022-01-25T08:59:38.256963Z",
     "shell.execute_reply.started": "2021-08-10T04:59:36.175739Z"
    },
    "papermill": {
     "duration": 0.094671,
     "end_time": "2022-01-25T08:59:38.257737",
     "exception": false,
     "start_time": "2022-01-25T08:59:38.163066",
     "status": "completed"
    },
    "tags": []
   },
   "outputs": [
    {
     "data": {
      "text/html": [
       "<div>\n",
       "<style scoped>\n",
       "    .dataframe tbody tr th:only-of-type {\n",
       "        vertical-align: middle;\n",
       "    }\n",
       "\n",
       "    .dataframe tbody tr th {\n",
       "        vertical-align: top;\n",
       "    }\n",
       "\n",
       "    .dataframe thead th {\n",
       "        text-align: right;\n",
       "    }\n",
       "</style>\n",
       "<table border=\"1\" class=\"dataframe\">\n",
       "  <thead>\n",
       "    <tr style=\"text-align: right;\">\n",
       "      <th></th>\n",
       "      <th>Customer_ID</th>\n",
       "      <th>Gender</th>\n",
       "      <th>Age</th>\n",
       "      <th>Income_(USD/Month)</th>\n",
       "    </tr>\n",
       "  </thead>\n",
       "  <tbody>\n",
       "    <tr>\n",
       "      <th>0</th>\n",
       "      <td>29290</td>\n",
       "      <td>Male</td>\n",
       "      <td>28</td>\n",
       "      <td>10813</td>\n",
       "    </tr>\n",
       "    <tr>\n",
       "      <th>1</th>\n",
       "      <td>27703</td>\n",
       "      <td>Male</td>\n",
       "      <td>27</td>\n",
       "      <td>9237</td>\n",
       "    </tr>\n",
       "    <tr>\n",
       "      <th>2</th>\n",
       "      <td>28712</td>\n",
       "      <td>Male</td>\n",
       "      <td>53</td>\n",
       "      <td>11242</td>\n",
       "    </tr>\n",
       "    <tr>\n",
       "      <th>3</th>\n",
       "      <td>28020</td>\n",
       "      <td>Male</td>\n",
       "      <td>23</td>\n",
       "      <td>23327</td>\n",
       "    </tr>\n",
       "    <tr>\n",
       "      <th>4</th>\n",
       "      <td>27182</td>\n",
       "      <td>Male</td>\n",
       "      <td>33</td>\n",
       "      <td>8536</td>\n",
       "    </tr>\n",
       "  </tbody>\n",
       "</table>\n",
       "</div>"
      ],
      "text/plain": [
       "   Customer_ID Gender  Age  Income_(USD/Month)\n",
       "0        29290   Male   28               10813\n",
       "1        27703   Male   27                9237\n",
       "2        28712   Male   53               11242\n",
       "3        28020   Male   23               23327\n",
       "4        27182   Male   33                8536"
      ]
     },
     "execution_count": 27,
     "metadata": {},
     "output_type": "execute_result"
    }
   ],
   "source": [
    "customer.head()"
   ]
  },
  {
   "cell_type": "code",
   "execution_count": 28,
   "id": "31e73abd",
   "metadata": {
    "execution": {
     "iopub.execute_input": "2022-01-25T08:59:38.424003Z",
     "iopub.status.busy": "2022-01-25T08:59:38.423334Z",
     "iopub.status.idle": "2022-01-25T08:59:38.428234Z",
     "shell.execute_reply": "2022-01-25T08:59:38.428787Z",
     "shell.execute_reply.started": "2021-08-10T04:59:36.186924Z"
    },
    "papermill": {
     "duration": 0.089763,
     "end_time": "2022-01-25T08:59:38.428952",
     "exception": false,
     "start_time": "2022-01-25T08:59:38.339189",
     "status": "completed"
    },
    "tags": []
   },
   "outputs": [],
   "source": [
    "customer = customer.rename(columns={'Income_(USD/Month)': 'Income_per_Month'})"
   ]
  },
  {
   "cell_type": "code",
   "execution_count": 29,
   "id": "f9c34bed",
   "metadata": {
    "execution": {
     "iopub.execute_input": "2022-01-25T08:59:38.593345Z",
     "iopub.status.busy": "2022-01-25T08:59:38.592651Z",
     "iopub.status.idle": "2022-01-25T08:59:38.633793Z",
     "shell.execute_reply": "2022-01-25T08:59:38.634327Z",
     "shell.execute_reply.started": "2021-08-10T04:59:36.196206Z"
    },
    "papermill": {
     "duration": 0.124597,
     "end_time": "2022-01-25T08:59:38.634502",
     "exception": false,
     "start_time": "2022-01-25T08:59:38.509905",
     "status": "completed"
    },
    "scrolled": true,
    "tags": []
   },
   "outputs": [
    {
     "name": "stdout",
     "output_type": "stream",
     "text": [
      "For DataSet :Customer Dataset\n",
      "-------------//Shape of dataset- Customer Dataset \n",
      "(49171, 4)\n",
      "-------------//Columns in dataset- Customer Dataset \n",
      "Index(['Customer_ID', 'Gender', 'Age', 'Income_per_Month'], dtype='object')\n",
      "-------------//Info for dataset- Customer Dataset \n",
      "<class 'pandas.core.frame.DataFrame'>\n",
      "RangeIndex: 49171 entries, 0 to 49170\n",
      "Data columns (total 4 columns):\n",
      " #   Column            Non-Null Count  Dtype \n",
      "---  ------            --------------  ----- \n",
      " 0   Customer_ID       49171 non-null  int64 \n",
      " 1   Gender            49171 non-null  object\n",
      " 2   Age               49171 non-null  int64 \n",
      " 3   Income_per_Month  49171 non-null  int64 \n",
      "dtypes: int64(3), object(1)\n",
      "memory usage: 1.5+ MB\n",
      "None\n",
      "-------------//Null Values for dataset- Customer Dataset\n",
      "Customer_ID         0\n",
      "Gender              0\n",
      "Age                 0\n",
      "Income_per_Month    0\n",
      "dtype: int64\n",
      "-------------//Description of dataset- Customer Dataset\n",
      "        Customer_ID           Age  Income_per_Month\n",
      "count  49171.000000  49171.000000      49171.000000\n",
      "mean   28398.252283     35.363121      15015.631856\n",
      "std    17714.137333     12.599066       8002.208253\n",
      "min        1.000000     18.000000       2000.000000\n",
      "25%    12654.500000     25.000000       8289.500000\n",
      "50%    27631.000000     33.000000      14656.000000\n",
      "75%    43284.500000     42.000000      21035.000000\n",
      "max    60000.000000     65.000000      35000.000000\n",
      "\n",
      "\n",
      "\n"
     ]
    }
   ],
   "source": [
    "data_info(customer, 'Customer Dataset')"
   ]
  },
  {
   "cell_type": "code",
   "execution_count": 30,
   "id": "55ca6bf7",
   "metadata": {
    "execution": {
     "iopub.execute_input": "2022-01-25T08:59:38.799454Z",
     "iopub.status.busy": "2022-01-25T08:59:38.798762Z",
     "iopub.status.idle": "2022-01-25T08:59:38.930499Z",
     "shell.execute_reply": "2022-01-25T08:59:38.929942Z",
     "shell.execute_reply.started": "2021-08-10T04:59:36.233902Z"
    },
    "papermill": {
     "duration": 0.215139,
     "end_time": "2022-01-25T08:59:38.930640",
     "exception": false,
     "start_time": "2022-01-25T08:59:38.715501",
     "status": "completed"
    },
    "tags": []
   },
   "outputs": [
    {
     "data": {
      "image/png": "[encoded data removed]",
      "text/plain": [
       "<Figure size 1008x432 with 1 Axes>"
      ]
     },
     "metadata": {
      "needs_background": "light"
     },
     "output_type": "display_data"
    },
    {
     "name": "stdout",
     "output_type": "stream",
     "text": [
      "Gender\n",
      "Female    22609\n",
      "Male      26562\n",
      "Name: Customer_ID, dtype: int64\n"
     ]
    }
   ],
   "source": [
    "gender = customer.groupby(['Gender']).Customer_ID.count()\n",
    "plot_bar(gender, 'Distribution of Customer based on Gender')"
   ]
  },
  {
   "cell_type": "markdown",
   "id": "968c8b12",
   "metadata": {
    "papermill": {
     "duration": 0.082913,
     "end_time": "2022-01-25T08:59:39.097176",
     "exception": false,
     "start_time": "2022-01-25T08:59:39.014263",
     "status": "completed"
    },
    "tags": []
   },
   "source": [
    "<h4 style=\"color:green;\">We have more number of male passengers/customers</h4>"
   ]
  },
  {
   "cell_type": "code",
   "execution_count": 31,
   "id": "ac9097ba",
   "metadata": {
    "execution": {
     "iopub.execute_input": "2022-01-25T08:59:39.266828Z",
     "iopub.status.busy": "2022-01-25T08:59:39.266162Z",
     "iopub.status.idle": "2022-01-25T08:59:40.106168Z",
     "shell.execute_reply": "2022-01-25T08:59:40.106671Z",
     "shell.execute_reply.started": "2021-08-10T04:59:36.346222Z"
    },
    "papermill": {
     "duration": 0.927857,
     "end_time": "2022-01-25T08:59:40.106834",
     "exception": false,
     "start_time": "2022-01-25T08:59:39.178977",
     "status": "completed"
    },
    "scrolled": true,
    "tags": []
   },
   "outputs": [
    {
     "data": {
      "image/png": "[encoded data removed]",
      "text/plain": [
       "<Figure size 1008x432 with 1 Axes>"
      ]
     },
     "metadata": {
      "needs_background": "light"
     },
     "output_type": "display_data"
    },
    {
     "data": {
      "image/png": "[encoded data removed]",
      "text/plain": [
       "<Figure size 1008x432 with 1 Axes>"
      ]
     },
     "metadata": {
      "needs_background": "light"
     },
     "output_type": "display_data"
    },
    {
     "name": "stdout",
     "output_type": "stream",
     "text": [
      "Age\n",
      "18    1551\n",
      "19    1561\n",
      "20    1641\n",
      "21    1554\n",
      "22    1596\n",
      "23    1615\n",
      "24    1547\n",
      "25    1597\n",
      "26    1577\n",
      "27    1571\n",
      "28    1588\n",
      "29    1511\n",
      "30    1573\n",
      "31    1549\n",
      "32    1585\n",
      "33    1495\n",
      "34    1629\n",
      "35    1503\n",
      "36    1534\n",
      "37    1575\n",
      "38    1512\n",
      "39    1624\n",
      "40    1561\n",
      "41     523\n",
      "42     526\n",
      "43     532\n",
      "44     492\n",
      "45     551\n",
      "46     540\n",
      "47     539\n",
      "48     533\n",
      "49     539\n",
      "50     538\n",
      "51     525\n",
      "52     539\n",
      "53     510\n",
      "54     506\n",
      "55     504\n",
      "56     521\n",
      "57     498\n",
      "58     536\n",
      "59     552\n",
      "60     501\n",
      "61     580\n",
      "62     497\n",
      "63     512\n",
      "64     536\n",
      "65     492\n",
      "Name: Customer_ID, dtype: int64\n"
     ]
    }
   ],
   "source": [
    "distribution_graph(customer, 'Age Distribution', 'Age', 'Age', '#e79683' )\n",
    "age = customer.groupby(['Age']).Customer_ID.count()\n",
    "plot_bar(age, 'Distribution of Customer based on Gender')"
   ]
  },
  {
   "cell_type": "markdown",
   "id": "fe42ce36",
   "metadata": {
    "papermill": {
     "duration": 0.084263,
     "end_time": "2022-01-25T08:59:40.274785",
     "exception": false,
     "start_time": "2022-01-25T08:59:40.190522",
     "status": "completed"
    },
    "tags": []
   },
   "source": [
    "<h4 style=\"color:green;\">After the age og 40 there is a sudden drop in number of passengers. People younger than 40 form a larger part of customers</h4>"
   ]
  },
  {
   "cell_type": "code",
   "execution_count": 32,
   "id": "e99268a0",
   "metadata": {
    "execution": {
     "iopub.execute_input": "2022-01-25T08:59:40.450400Z",
     "iopub.status.busy": "2022-01-25T08:59:40.449747Z",
     "iopub.status.idle": "2022-01-25T08:59:40.922094Z",
     "shell.execute_reply": "2022-01-25T08:59:40.922585Z",
     "shell.execute_reply.started": "2021-08-10T04:59:37.063233Z"
    },
    "papermill": {
     "duration": 0.563753,
     "end_time": "2022-01-25T08:59:40.922759",
     "exception": false,
     "start_time": "2022-01-25T08:59:40.359006",
     "status": "completed"
    },
    "scrolled": true,
    "tags": []
   },
   "outputs": [
    {
     "data": {
      "image/png": "[encoded data removed]",
      "text/plain": [
       "<Figure size 432x288 with 1 Axes>"
      ]
     },
     "metadata": {
      "needs_background": "light"
     },
     "output_type": "display_data"
    },
    {
     "name": "stdout",
     "output_type": "stream",
     "text": [
      "Max Income in the table is  35000\n",
      "Min Income in the table is  2000\n"
     ]
    }
   ],
   "source": [
    "counts = customer.groupby(['Age']).Income_per_Month.mean()\n",
    "ax = counts.plot(kind='bar',stacked = False)\n",
    "plt.show()\n",
    "\n",
    "print('Max Income in the table is ',customer['Income_per_Month'].max())\n",
    "print('Min Income in the table is ',customer['Income_per_Month'].min())"
   ]
  },
  {
   "cell_type": "markdown",
   "id": "f11ac7fb",
   "metadata": {
    "papermill": {
     "duration": 0.08557,
     "end_time": "2022-01-25T08:59:41.093814",
     "exception": false,
     "start_time": "2022-01-25T08:59:41.008244",
     "status": "completed"
    },
    "tags": []
   },
   "source": [
    "<h4 style=\"color:green;\">Average income is constant amongst our customers for all ages</h4>"
   ]
  },
  {
   "cell_type": "code",
   "execution_count": 33,
   "id": "8eb5bead",
   "metadata": {
    "execution": {
     "iopub.execute_input": "2022-01-25T08:59:41.270498Z",
     "iopub.status.busy": "2022-01-25T08:59:41.269704Z",
     "iopub.status.idle": "2022-01-25T08:59:41.289290Z",
     "shell.execute_reply": "2022-01-25T08:59:41.289999Z",
     "shell.execute_reply.started": "2021-08-10T04:59:37.470081Z"
    },
    "papermill": {
     "duration": 0.111337,
     "end_time": "2022-01-25T08:59:41.290238",
     "exception": false,
     "start_time": "2022-01-25T08:59:41.178901",
     "status": "completed"
    },
    "tags": []
   },
   "outputs": [
    {
     "name": "stdout",
     "output_type": "stream",
     "text": [
      "\n",
      "\n",
      "Mean Income based on Gender and Age\n",
      "Gender  Age\n",
      "Female  18     14559.172554\n",
      "        19     14943.423410\n",
      "        20     15117.543860\n",
      "        21     15172.203812\n",
      "        22     15094.283444\n",
      "                   ...     \n",
      "Male    61     15027.250000\n",
      "        62     14995.261364\n",
      "        63     15624.091549\n",
      "        64     14779.901695\n",
      "        65     14816.531250\n",
      "Name: Income_per_Month, Length: 96, dtype: float64\n"
     ]
    }
   ],
   "source": [
    "print('\\n\\nMean Income based on Gender and Age') \n",
    "print(customer.groupby(['Gender','Age']).Income_per_Month.mean())"
   ]
  },
  {
   "cell_type": "markdown",
   "id": "55f04f7d",
   "metadata": {
    "papermill": {
     "duration": 0.086574,
     "end_time": "2022-01-25T08:59:41.482511",
     "exception": false,
     "start_time": "2022-01-25T08:59:41.395937",
     "status": "completed"
    },
    "tags": []
   },
   "source": [
    "<h4 style=\"color:green;\">Average Income is almost same (14k to 15k) for each age and for both males and females</h4>"
   ]
  },
  {
   "cell_type": "markdown",
   "id": "048db7a3",
   "metadata": {
    "papermill": {
     "duration": 0.084752,
     "end_time": "2022-01-25T08:59:41.652283",
     "exception": false,
     "start_time": "2022-01-25T08:59:41.567531",
     "status": "completed"
    },
    "tags": []
   },
   "source": [
    "<h2 style=\"color:blue;\">transaction dataset</h2>"
   ]
  },
  {
   "cell_type": "code",
   "execution_count": 34,
   "id": "1d5e1519",
   "metadata": {
    "execution": {
     "iopub.execute_input": "2022-01-25T08:59:41.825859Z",
     "iopub.status.busy": "2022-01-25T08:59:41.825255Z",
     "iopub.status.idle": "2022-01-25T08:59:41.834040Z",
     "shell.execute_reply": "2022-01-25T08:59:41.834577Z",
     "shell.execute_reply.started": "2021-08-10T04:59:37.486005Z"
    },
    "papermill": {
     "duration": 0.097568,
     "end_time": "2022-01-25T08:59:41.834759",
     "exception": false,
     "start_time": "2022-01-25T08:59:41.737191",
     "status": "completed"
    },
    "scrolled": true,
    "tags": []
   },
   "outputs": [
    {
     "data": {
      "text/html": [
       "<div>\n",
       "<style scoped>\n",
       "    .dataframe tbody tr th:only-of-type {\n",
       "        vertical-align: middle;\n",
       "    }\n",
       "\n",
       "    .dataframe tbody tr th {\n",
       "        vertical-align: top;\n",
       "    }\n",
       "\n",
       "    .dataframe thead th {\n",
       "        text-align: right;\n",
       "    }\n",
       "</style>\n",
       "<table border=\"1\" class=\"dataframe\">\n",
       "  <thead>\n",
       "    <tr style=\"text-align: right;\">\n",
       "      <th></th>\n",
       "      <th>Transaction_ID</th>\n",
       "      <th>Customer_ID</th>\n",
       "      <th>Payment_Mode</th>\n",
       "    </tr>\n",
       "  </thead>\n",
       "  <tbody>\n",
       "    <tr>\n",
       "      <th>0</th>\n",
       "      <td>10000011</td>\n",
       "      <td>29290</td>\n",
       "      <td>Card</td>\n",
       "    </tr>\n",
       "    <tr>\n",
       "      <th>1</th>\n",
       "      <td>10000012</td>\n",
       "      <td>27703</td>\n",
       "      <td>Card</td>\n",
       "    </tr>\n",
       "    <tr>\n",
       "      <th>2</th>\n",
       "      <td>10000013</td>\n",
       "      <td>28712</td>\n",
       "      <td>Cash</td>\n",
       "    </tr>\n",
       "    <tr>\n",
       "      <th>3</th>\n",
       "      <td>10000014</td>\n",
       "      <td>28020</td>\n",
       "      <td>Cash</td>\n",
       "    </tr>\n",
       "    <tr>\n",
       "      <th>4</th>\n",
       "      <td>10000015</td>\n",
       "      <td>27182</td>\n",
       "      <td>Card</td>\n",
       "    </tr>\n",
       "  </tbody>\n",
       "</table>\n",
       "</div>"
      ],
      "text/plain": [
       "   Transaction_ID  Customer_ID Payment_Mode\n",
       "0        10000011        29290         Card\n",
       "1        10000012        27703         Card\n",
       "2        10000013        28712         Cash\n",
       "3        10000014        28020         Cash\n",
       "4        10000015        27182         Card"
      ]
     },
     "execution_count": 34,
     "metadata": {},
     "output_type": "execute_result"
    }
   ],
   "source": [
    "transaction.head()"
   ]
  },
  {
   "cell_type": "code",
   "execution_count": 35,
   "id": "45a92294",
   "metadata": {
    "execution": {
     "iopub.execute_input": "2022-01-25T08:59:42.014041Z",
     "iopub.status.busy": "2022-01-25T08:59:42.013459Z",
     "iopub.status.idle": "2022-01-25T08:59:42.147411Z",
     "shell.execute_reply": "2022-01-25T08:59:42.147997Z",
     "shell.execute_reply.started": "2021-08-10T04:59:37.49689Z"
    },
    "papermill": {
     "duration": 0.225685,
     "end_time": "2022-01-25T08:59:42.148193",
     "exception": false,
     "start_time": "2022-01-25T08:59:41.922508",
     "status": "completed"
    },
    "scrolled": true,
    "tags": []
   },
   "outputs": [
    {
     "name": "stdout",
     "output_type": "stream",
     "text": [
      "For DataSet :Transaction Dataset\n",
      "-------------//Shape of dataset- Transaction Dataset \n",
      "(440098, 3)\n",
      "-------------//Columns in dataset- Transaction Dataset \n",
      "Index(['Transaction_ID', 'Customer_ID', 'Payment_Mode'], dtype='object')\n",
      "-------------//Info for dataset- Transaction Dataset \n",
      "<class 'pandas.core.frame.DataFrame'>\n",
      "RangeIndex: 440098 entries, 0 to 440097\n",
      "Data columns (total 3 columns):\n",
      " #   Column          Non-Null Count   Dtype \n",
      "---  ------          --------------   ----- \n",
      " 0   Transaction_ID  440098 non-null  int64 \n",
      " 1   Customer_ID     440098 non-null  int64 \n",
      " 2   Payment_Mode    440098 non-null  object\n",
      "dtypes: int64(2), object(1)\n",
      "memory usage: 10.1+ MB\n",
      "None\n",
      "-------------//Null Values for dataset- Transaction Dataset\n",
      "Transaction_ID    0\n",
      "Customer_ID       0\n",
      "Payment_Mode      0\n",
      "dtype: int64\n",
      "-------------//Description of dataset- Transaction Dataset\n",
      "       Transaction_ID    Customer_ID\n",
      "count    4.400980e+05  440098.000000\n",
      "mean     1.022006e+07   23619.513120\n",
      "std      1.270455e+05   21195.549816\n",
      "min      1.000001e+07       1.000000\n",
      "25%      1.011004e+07    3530.000000\n",
      "50%      1.022006e+07   15168.000000\n",
      "75%      1.033008e+07   43884.000000\n",
      "max      1.044011e+07   60000.000000\n",
      "\n",
      "\n",
      "\n"
     ]
    }
   ],
   "source": [
    "data_info(transaction, 'Transaction Dataset')"
   ]
  },
  {
   "cell_type": "code",
   "execution_count": 36,
   "id": "69c226b9",
   "metadata": {
    "execution": {
     "iopub.execute_input": "2022-01-25T08:59:42.333736Z",
     "iopub.status.busy": "2022-01-25T08:59:42.333076Z",
     "iopub.status.idle": "2022-01-25T08:59:42.483773Z",
     "shell.execute_reply": "2022-01-25T08:59:42.484254Z",
     "shell.execute_reply.started": "2021-08-10T04:59:37.5718Z"
    },
    "papermill": {
     "duration": 0.249218,
     "end_time": "2022-01-25T08:59:42.484427",
     "exception": false,
     "start_time": "2022-01-25T08:59:42.235209",
     "status": "completed"
    },
    "tags": []
   },
   "outputs": [
    {
     "data": {
      "image/png": "[encoded data removed]",
      "text/plain": [
       "<Figure size 1008x432 with 1 Axes>"
      ]
     },
     "metadata": {
      "needs_background": "light"
     },
     "output_type": "display_data"
    },
    {
     "name": "stdout",
     "output_type": "stream",
     "text": [
      "Payment_Mode\n",
      "Card    263991\n",
      "Cash    176107\n",
      "Name: Transaction_ID, dtype: int64\n"
     ]
    }
   ],
   "source": [
    "payment_mode = transaction.groupby(['Payment_Mode']).Transaction_ID.count()\n",
    "plot_bar(payment_mode, 'Payment_Mode')"
   ]
  },
  {
   "cell_type": "markdown",
   "id": "5c6e6801",
   "metadata": {
    "papermill": {
     "duration": 0.086906,
     "end_time": "2022-01-25T08:59:42.658364",
     "exception": false,
     "start_time": "2022-01-25T08:59:42.571458",
     "status": "completed"
    },
    "tags": []
   },
   "source": [
    "<h4 style=\"color:green;\">Preferred Mode of transaction is Card, customers use card almost 60% during payment</h4>"
   ]
  },
  {
   "cell_type": "markdown",
   "id": "9fe5521b",
   "metadata": {
    "papermill": {
     "duration": 0.087512,
     "end_time": "2022-01-25T08:59:42.832569",
     "exception": false,
     "start_time": "2022-01-25T08:59:42.745057",
     "status": "completed"
    },
    "tags": []
   },
   "source": [
    "<h2 style=\"color:blue;\">city dataset</h2>"
   ]
  },
  {
   "cell_type": "code",
   "execution_count": 37,
   "id": "e53759be",
   "metadata": {
    "execution": {
     "iopub.execute_input": "2022-01-25T08:59:43.011547Z",
     "iopub.status.busy": "2022-01-25T08:59:43.010563Z",
     "iopub.status.idle": "2022-01-25T08:59:43.021044Z",
     "shell.execute_reply": "2022-01-25T08:59:43.021599Z",
     "shell.execute_reply.started": "2021-08-10T04:59:37.707529Z"
    },
    "papermill": {
     "duration": 0.102406,
     "end_time": "2022-01-25T08:59:43.021764",
     "exception": false,
     "start_time": "2022-01-25T08:59:42.919358",
     "status": "completed"
    },
    "scrolled": true,
    "tags": []
   },
   "outputs": [
    {
     "data": {
      "text/html": [
       "<div>\n",
       "<style scoped>\n",
       "    .dataframe tbody tr th:only-of-type {\n",
       "        vertical-align: middle;\n",
       "    }\n",
       "\n",
       "    .dataframe tbody tr th {\n",
       "        vertical-align: top;\n",
       "    }\n",
       "\n",
       "    .dataframe thead th {\n",
       "        text-align: right;\n",
       "    }\n",
       "</style>\n",
       "<table border=\"1\" class=\"dataframe\">\n",
       "  <thead>\n",
       "    <tr style=\"text-align: right;\">\n",
       "      <th></th>\n",
       "      <th>City</th>\n",
       "      <th>Population</th>\n",
       "      <th>Users</th>\n",
       "    </tr>\n",
       "  </thead>\n",
       "  <tbody>\n",
       "    <tr>\n",
       "      <th>0</th>\n",
       "      <td>NEW YORK NY</td>\n",
       "      <td>8,405,837</td>\n",
       "      <td>302,149</td>\n",
       "    </tr>\n",
       "    <tr>\n",
       "      <th>1</th>\n",
       "      <td>CHICAGO IL</td>\n",
       "      <td>1,955,130</td>\n",
       "      <td>164,468</td>\n",
       "    </tr>\n",
       "    <tr>\n",
       "      <th>2</th>\n",
       "      <td>LOS ANGELES CA</td>\n",
       "      <td>1,595,037</td>\n",
       "      <td>144,132</td>\n",
       "    </tr>\n",
       "    <tr>\n",
       "      <th>3</th>\n",
       "      <td>MIAMI FL</td>\n",
       "      <td>1,339,155</td>\n",
       "      <td>17,675</td>\n",
       "    </tr>\n",
       "    <tr>\n",
       "      <th>4</th>\n",
       "      <td>SILICON VALLEY</td>\n",
       "      <td>1,177,609</td>\n",
       "      <td>27,247</td>\n",
       "    </tr>\n",
       "  </tbody>\n",
       "</table>\n",
       "</div>"
      ],
      "text/plain": [
       "             City   Population      Users\n",
       "0     NEW YORK NY   8,405,837    302,149 \n",
       "1      CHICAGO IL   1,955,130    164,468 \n",
       "2  LOS ANGELES CA   1,595,037    144,132 \n",
       "3        MIAMI FL   1,339,155     17,675 \n",
       "4  SILICON VALLEY   1,177,609     27,247 "
      ]
     },
     "execution_count": 37,
     "metadata": {},
     "output_type": "execute_result"
    }
   ],
   "source": [
    "city.head()"
   ]
  },
  {
   "cell_type": "code",
   "execution_count": 38,
   "id": "edd87d47",
   "metadata": {
    "execution": {
     "iopub.execute_input": "2022-01-25T08:59:43.204213Z",
     "iopub.status.busy": "2022-01-25T08:59:43.203274Z",
     "iopub.status.idle": "2022-01-25T08:59:43.228491Z",
     "shell.execute_reply": "2022-01-25T08:59:43.229108Z",
     "shell.execute_reply.started": "2021-08-10T04:59:37.719029Z"
    },
    "papermill": {
     "duration": 0.11918,
     "end_time": "2022-01-25T08:59:43.229294",
     "exception": false,
     "start_time": "2022-01-25T08:59:43.110114",
     "status": "completed"
    },
    "scrolled": true,
    "tags": []
   },
   "outputs": [
    {
     "name": "stdout",
     "output_type": "stream",
     "text": [
      "For DataSet :City Dataset\n",
      "-------------//Shape of dataset- City Dataset \n",
      "(20, 3)\n",
      "-------------//Columns in dataset- City Dataset \n",
      "Index(['City', 'Population', 'Users'], dtype='object')\n",
      "-------------//Info for dataset- City Dataset \n",
      "<class 'pandas.core.frame.DataFrame'>\n",
      "RangeIndex: 20 entries, 0 to 19\n",
      "Data columns (total 3 columns):\n",
      " #   Column      Non-Null Count  Dtype \n",
      "---  ------      --------------  ----- \n",
      " 0   City        20 non-null     object\n",
      " 1   Population  20 non-null     object\n",
      " 2   Users       20 non-null     object\n",
      "dtypes: object(3)\n",
      "memory usage: 608.0+ bytes\n",
      "None\n",
      "-------------//Null Values for dataset- City Dataset\n",
      "City          0\n",
      "Population    0\n",
      "Users         0\n",
      "dtype: int64\n",
      "-------------//Description of dataset- City Dataset\n",
      "                City   Population    Users\n",
      "count             20           20       20\n",
      "unique            20           20       20\n",
      "top     NASHVILLE TN   1,595,037    6,133 \n",
      "freq               1            1        1\n",
      "\n",
      "\n",
      "\n"
     ]
    }
   ],
   "source": [
    "data_info(city, 'City Dataset')"
   ]
  },
  {
   "cell_type": "code",
   "execution_count": 39,
   "id": "efbe71a2",
   "metadata": {
    "execution": {
     "iopub.execute_input": "2022-01-25T08:59:43.414784Z",
     "iopub.status.busy": "2022-01-25T08:59:43.414077Z",
     "iopub.status.idle": "2022-01-25T08:59:43.426338Z",
     "shell.execute_reply": "2022-01-25T08:59:43.426965Z",
     "shell.execute_reply.started": "2021-08-10T04:59:37.745697Z"
    },
    "papermill": {
     "duration": 0.10528,
     "end_time": "2022-01-25T08:59:43.427328",
     "exception": false,
     "start_time": "2022-01-25T08:59:43.322048",
     "status": "completed"
    },
    "tags": []
   },
   "outputs": [
    {
     "data": {
      "text/html": [
       "<div>\n",
       "<style scoped>\n",
       "    .dataframe tbody tr th:only-of-type {\n",
       "        vertical-align: middle;\n",
       "    }\n",
       "\n",
       "    .dataframe tbody tr th {\n",
       "        vertical-align: top;\n",
       "    }\n",
       "\n",
       "    .dataframe thead th {\n",
       "        text-align: right;\n",
       "    }\n",
       "</style>\n",
       "<table border=\"1\" class=\"dataframe\">\n",
       "  <thead>\n",
       "    <tr style=\"text-align: right;\">\n",
       "      <th></th>\n",
       "      <th>City</th>\n",
       "      <th>Population</th>\n",
       "      <th>Users</th>\n",
       "    </tr>\n",
       "  </thead>\n",
       "  <tbody>\n",
       "    <tr>\n",
       "      <th>0</th>\n",
       "      <td>NEW YORK NY</td>\n",
       "      <td>8405837</td>\n",
       "      <td>302149</td>\n",
       "    </tr>\n",
       "    <tr>\n",
       "      <th>1</th>\n",
       "      <td>CHICAGO IL</td>\n",
       "      <td>1955130</td>\n",
       "      <td>164468</td>\n",
       "    </tr>\n",
       "    <tr>\n",
       "      <th>2</th>\n",
       "      <td>LOS ANGELES CA</td>\n",
       "      <td>1595037</td>\n",
       "      <td>144132</td>\n",
       "    </tr>\n",
       "  </tbody>\n",
       "</table>\n",
       "</div>"
      ],
      "text/plain": [
       "             City Population   Users\n",
       "0     NEW YORK NY    8405837  302149\n",
       "1      CHICAGO IL    1955130  164468\n",
       "2  LOS ANGELES CA    1595037  144132"
      ]
     },
     "execution_count": 39,
     "metadata": {},
     "output_type": "execute_result"
    }
   ],
   "source": [
    "#Feature Engineering\n",
    "city['Population'] = city[\"Population\"].str.strip().str.replace(\",\",\"\") \n",
    "city['Users'] = city[\"Users\"].str.strip().str.replace(\",\",\"\")\n",
    "city.head(3)"
   ]
  },
  {
   "cell_type": "code",
   "execution_count": 40,
   "id": "0d2fbcef",
   "metadata": {
    "execution": {
     "iopub.execute_input": "2022-01-25T08:59:43.612378Z",
     "iopub.status.busy": "2022-01-25T08:59:43.611689Z",
     "iopub.status.idle": "2022-01-25T08:59:43.618269Z",
     "shell.execute_reply": "2022-01-25T08:59:43.618742Z",
     "shell.execute_reply.started": "2021-08-10T04:59:37.759073Z"
    },
    "papermill": {
     "duration": 0.098449,
     "end_time": "2022-01-25T08:59:43.618910",
     "exception": false,
     "start_time": "2022-01-25T08:59:43.520461",
     "status": "completed"
    },
    "tags": []
   },
   "outputs": [],
   "source": [
    "population = list(city[\"Population\"].str.strip().str.replace(\",\",\"\"))\n",
    "city['Population'] = population\n",
    "population = []\n",
    "for i in city['Population']:\n",
    "    i = float(i)\n",
    "    population.append(i)\n",
    "city['Population'] = population"
   ]
  },
  {
   "cell_type": "code",
   "execution_count": 41,
   "id": "f2828fb8",
   "metadata": {
    "execution": {
     "iopub.execute_input": "2022-01-25T08:59:43.799850Z",
     "iopub.status.busy": "2022-01-25T08:59:43.799216Z",
     "iopub.status.idle": "2022-01-25T08:59:43.805874Z",
     "shell.execute_reply": "2022-01-25T08:59:43.806339Z",
     "shell.execute_reply.started": "2021-08-10T04:59:37.76897Z"
    },
    "papermill": {
     "duration": 0.098766,
     "end_time": "2022-01-25T08:59:43.806564",
     "exception": false,
     "start_time": "2022-01-25T08:59:43.707798",
     "status": "completed"
    },
    "tags": []
   },
   "outputs": [],
   "source": [
    "users = list(city[\"Users\"].str.strip().str.replace(\",\",\"\"))\n",
    "city['Users'] = users\n",
    "users=[]\n",
    "for i in city['Users']:\n",
    "    i = float(i)\n",
    "    users.append(i)\n",
    "city['Users'] = users"
   ]
  },
  {
   "cell_type": "code",
   "execution_count": 42,
   "id": "531132ec",
   "metadata": {
    "execution": {
     "iopub.execute_input": "2022-01-25T08:59:43.989025Z",
     "iopub.status.busy": "2022-01-25T08:59:43.988389Z",
     "iopub.status.idle": "2022-01-25T08:59:43.994029Z",
     "shell.execute_reply": "2022-01-25T08:59:43.993377Z",
     "shell.execute_reply.started": "2021-08-10T04:59:37.781606Z"
    },
    "papermill": {
     "duration": 0.096867,
     "end_time": "2022-01-25T08:59:43.994182",
     "exception": false,
     "start_time": "2022-01-25T08:59:43.897315",
     "status": "completed"
    },
    "tags": []
   },
   "outputs": [],
   "source": [
    "#adding a new feature PercentageUser\n",
    "city['PercentageUser'] = (city['Users']/ city['Population'])*100"
   ]
  },
  {
   "cell_type": "code",
   "execution_count": 43,
   "id": "78b10889",
   "metadata": {
    "execution": {
     "iopub.execute_input": "2022-01-25T08:59:44.184419Z",
     "iopub.status.busy": "2022-01-25T08:59:44.183486Z",
     "iopub.status.idle": "2022-01-25T08:59:44.187610Z",
     "shell.execute_reply": "2022-01-25T08:59:44.187051Z",
     "shell.execute_reply.started": "2021-08-10T04:59:37.792158Z"
    },
    "papermill": {
     "duration": 0.104328,
     "end_time": "2022-01-25T08:59:44.187747",
     "exception": false,
     "start_time": "2022-01-25T08:59:44.083419",
     "status": "completed"
    },
    "scrolled": true,
    "tags": []
   },
   "outputs": [
    {
     "data": {
      "text/html": [
       "<div>\n",
       "<style scoped>\n",
       "    .dataframe tbody tr th:only-of-type {\n",
       "        vertical-align: middle;\n",
       "    }\n",
       "\n",
       "    .dataframe tbody tr th {\n",
       "        vertical-align: top;\n",
       "    }\n",
       "\n",
       "    .dataframe thead th {\n",
       "        text-align: right;\n",
       "    }\n",
       "</style>\n",
       "<table border=\"1\" class=\"dataframe\">\n",
       "  <thead>\n",
       "    <tr style=\"text-align: right;\">\n",
       "      <th></th>\n",
       "      <th>City</th>\n",
       "      <th>Population</th>\n",
       "      <th>Users</th>\n",
       "      <th>PercentageUser</th>\n",
       "    </tr>\n",
       "  </thead>\n",
       "  <tbody>\n",
       "    <tr>\n",
       "      <th>0</th>\n",
       "      <td>NEW YORK NY</td>\n",
       "      <td>8405837.0</td>\n",
       "      <td>302149.0</td>\n",
       "      <td>3.594514</td>\n",
       "    </tr>\n",
       "    <tr>\n",
       "      <th>1</th>\n",
       "      <td>CHICAGO IL</td>\n",
       "      <td>1955130.0</td>\n",
       "      <td>164468.0</td>\n",
       "      <td>8.412126</td>\n",
       "    </tr>\n",
       "    <tr>\n",
       "      <th>2</th>\n",
       "      <td>LOS ANGELES CA</td>\n",
       "      <td>1595037.0</td>\n",
       "      <td>144132.0</td>\n",
       "      <td>9.036279</td>\n",
       "    </tr>\n",
       "    <tr>\n",
       "      <th>3</th>\n",
       "      <td>MIAMI FL</td>\n",
       "      <td>1339155.0</td>\n",
       "      <td>17675.0</td>\n",
       "      <td>1.319862</td>\n",
       "    </tr>\n",
       "    <tr>\n",
       "      <th>4</th>\n",
       "      <td>SILICON VALLEY</td>\n",
       "      <td>1177609.0</td>\n",
       "      <td>27247.0</td>\n",
       "      <td>2.313756</td>\n",
       "    </tr>\n",
       "  </tbody>\n",
       "</table>\n",
       "</div>"
      ],
      "text/plain": [
       "             City  Population     Users  PercentageUser\n",
       "0     NEW YORK NY   8405837.0  302149.0        3.594514\n",
       "1      CHICAGO IL   1955130.0  164468.0        8.412126\n",
       "2  LOS ANGELES CA   1595037.0  144132.0        9.036279\n",
       "3        MIAMI FL   1339155.0   17675.0        1.319862\n",
       "4  SILICON VALLEY   1177609.0   27247.0        2.313756"
      ]
     },
     "execution_count": 43,
     "metadata": {},
     "output_type": "execute_result"
    }
   ],
   "source": [
    "city.head()"
   ]
  },
  {
   "cell_type": "code",
   "execution_count": 44,
   "id": "5ae565d7",
   "metadata": {
    "execution": {
     "iopub.execute_input": "2022-01-25T08:59:44.370441Z",
     "iopub.status.busy": "2022-01-25T08:59:44.369768Z",
     "iopub.status.idle": "2022-01-25T08:59:44.680200Z",
     "shell.execute_reply": "2022-01-25T08:59:44.679526Z",
     "shell.execute_reply.started": "2021-08-10T04:59:37.815721Z"
    },
    "papermill": {
     "duration": 0.402681,
     "end_time": "2022-01-25T08:59:44.680352",
     "exception": false,
     "start_time": "2022-01-25T08:59:44.277671",
     "status": "completed"
    },
    "tags": []
   },
   "outputs": [
    {
     "data": {
      "image/png": "[encoded data removed]",
      "text/plain": [
       "<Figure size 1008x432 with 1 Axes>"
      ]
     },
     "metadata": {
      "needs_background": "light"
     },
     "output_type": "display_data"
    }
   ],
   "source": [
    "plt.figure(figsize=(14,6))\n",
    "sns.barplot(x= city.City, y=city.Users)     \n",
    "plt.title('Distribution of Users in Every City')\n",
    "plt.xticks(rotation=90)\n",
    "plt.show()\n"
   ]
  },
  {
   "cell_type": "code",
   "execution_count": 45,
   "id": "6262c3d0",
   "metadata": {
    "execution": {
     "iopub.execute_input": "2022-01-25T08:59:44.866328Z",
     "iopub.status.busy": "2022-01-25T08:59:44.865374Z",
     "iopub.status.idle": "2022-01-25T08:59:45.175407Z",
     "shell.execute_reply": "2022-01-25T08:59:45.175882Z",
     "shell.execute_reply.started": "2021-08-10T04:59:38.085942Z"
    },
    "papermill": {
     "duration": 0.405332,
     "end_time": "2022-01-25T08:59:45.176057",
     "exception": false,
     "start_time": "2022-01-25T08:59:44.770725",
     "status": "completed"
    },
    "tags": []
   },
   "outputs": [
    {
     "data": {
      "image/png": "[encoded data removed]",
      "text/plain": [
       "<Figure size 1008x432 with 1 Axes>"
      ]
     },
     "metadata": {
      "needs_background": "light"
     },
     "output_type": "display_data"
    }
   ],
   "source": [
    "plt.figure(figsize=(14,6))\n",
    "sns.barplot(x= city.City, y=city.PercentageUser)     \n",
    "plt.title('Percentage User in Every City')\n",
    "plt.xticks(rotation=90)\n",
    "plt.show()"
   ]
  },
  {
   "cell_type": "markdown",
   "id": "74af89cd",
   "metadata": {
    "papermill": {
     "duration": 0.09253,
     "end_time": "2022-01-25T08:59:45.360782",
     "exception": false,
     "start_time": "2022-01-25T08:59:45.268252",
     "status": "completed"
    },
    "tags": []
   },
   "source": [
    "<h4 style=\"color:green;\">Users and Percentage of users shows no relation between one another. Highest number of users is in NEW YORK NY but highest number of percenatge users is in SAN FRANCISCO CA</h4>"
   ]
  },
  {
   "cell_type": "markdown",
   "id": "c1b72be9",
   "metadata": {
    "papermill": {
     "duration": 0.091557,
     "end_time": "2022-01-25T08:59:45.545092",
     "exception": false,
     "start_time": "2022-01-25T08:59:45.453535",
     "status": "completed"
    },
    "tags": []
   },
   "source": [
    "<h2 style=\"color:blue;\">master dataset</h2>"
   ]
  },
  {
   "cell_type": "code",
   "execution_count": 46,
   "id": "f3cd1868",
   "metadata": {
    "execution": {
     "iopub.execute_input": "2022-01-25T08:59:45.733090Z",
     "iopub.status.busy": "2022-01-25T08:59:45.732478Z",
     "iopub.status.idle": "2022-01-25T08:59:46.016675Z",
     "shell.execute_reply": "2022-01-25T08:59:46.016108Z",
     "shell.execute_reply.started": "2021-08-10T04:59:38.363449Z"
    },
    "papermill": {
     "duration": 0.37958,
     "end_time": "2022-01-25T08:59:46.016807",
     "exception": false,
     "start_time": "2022-01-25T08:59:45.637227",
     "status": "completed"
    },
    "tags": []
   },
   "outputs": [
    {
     "data": {
      "text/html": [
       "<div>\n",
       "<style scoped>\n",
       "    .dataframe tbody tr th:only-of-type {\n",
       "        vertical-align: middle;\n",
       "    }\n",
       "\n",
       "    .dataframe tbody tr th {\n",
       "        vertical-align: top;\n",
       "    }\n",
       "\n",
       "    .dataframe thead th {\n",
       "        text-align: right;\n",
       "    }\n",
       "</style>\n",
       "<table border=\"1\" class=\"dataframe\">\n",
       "  <thead>\n",
       "    <tr style=\"text-align: right;\">\n",
       "      <th></th>\n",
       "      <th>Transaction_ID</th>\n",
       "      <th>Customer_ID</th>\n",
       "      <th>Company</th>\n",
       "      <th>City</th>\n",
       "      <th>KM_Travelled</th>\n",
       "      <th>Price_Charged</th>\n",
       "      <th>Cost_of_Trip</th>\n",
       "      <th>Year</th>\n",
       "      <th>Month</th>\n",
       "      <th>Profit</th>\n",
       "      <th>ProfitPercentage</th>\n",
       "      <th>Profit_per_KM</th>\n",
       "      <th>Payment_Mode</th>\n",
       "      <th>Gender</th>\n",
       "      <th>Age</th>\n",
       "      <th>Income_per_Month</th>\n",
       "    </tr>\n",
       "  </thead>\n",
       "  <tbody>\n",
       "    <tr>\n",
       "      <th>0</th>\n",
       "      <td>10000011</td>\n",
       "      <td>29290</td>\n",
       "      <td>Pink Cab</td>\n",
       "      <td>ATLANTA GA</td>\n",
       "      <td>30.45</td>\n",
       "      <td>370.95</td>\n",
       "      <td>313.635</td>\n",
       "      <td>2016</td>\n",
       "      <td>8</td>\n",
       "      <td>57.315</td>\n",
       "      <td>18.274427</td>\n",
       "      <td>1.882266</td>\n",
       "      <td>Card</td>\n",
       "      <td>Male</td>\n",
       "      <td>28</td>\n",
       "      <td>10813</td>\n",
       "    </tr>\n",
       "    <tr>\n",
       "      <th>1</th>\n",
       "      <td>10000012</td>\n",
       "      <td>27703</td>\n",
       "      <td>Pink Cab</td>\n",
       "      <td>ATLANTA GA</td>\n",
       "      <td>28.62</td>\n",
       "      <td>358.52</td>\n",
       "      <td>334.854</td>\n",
       "      <td>2016</td>\n",
       "      <td>6</td>\n",
       "      <td>23.666</td>\n",
       "      <td>7.067558</td>\n",
       "      <td>0.826904</td>\n",
       "      <td>Card</td>\n",
       "      <td>Male</td>\n",
       "      <td>27</td>\n",
       "      <td>9237</td>\n",
       "    </tr>\n",
       "    <tr>\n",
       "      <th>2</th>\n",
       "      <td>10000013</td>\n",
       "      <td>28712</td>\n",
       "      <td>Pink Cab</td>\n",
       "      <td>ATLANTA GA</td>\n",
       "      <td>9.04</td>\n",
       "      <td>125.20</td>\n",
       "      <td>97.632</td>\n",
       "      <td>2016</td>\n",
       "      <td>2</td>\n",
       "      <td>27.568</td>\n",
       "      <td>28.236644</td>\n",
       "      <td>3.049558</td>\n",
       "      <td>Cash</td>\n",
       "      <td>Male</td>\n",
       "      <td>53</td>\n",
       "      <td>11242</td>\n",
       "    </tr>\n",
       "    <tr>\n",
       "      <th>3</th>\n",
       "      <td>10000014</td>\n",
       "      <td>28020</td>\n",
       "      <td>Pink Cab</td>\n",
       "      <td>ATLANTA GA</td>\n",
       "      <td>33.17</td>\n",
       "      <td>377.40</td>\n",
       "      <td>351.602</td>\n",
       "      <td>2016</td>\n",
       "      <td>7</td>\n",
       "      <td>25.798</td>\n",
       "      <td>7.337273</td>\n",
       "      <td>0.777751</td>\n",
       "      <td>Cash</td>\n",
       "      <td>Male</td>\n",
       "      <td>23</td>\n",
       "      <td>23327</td>\n",
       "    </tr>\n",
       "    <tr>\n",
       "      <th>4</th>\n",
       "      <td>10000015</td>\n",
       "      <td>27182</td>\n",
       "      <td>Pink Cab</td>\n",
       "      <td>ATLANTA GA</td>\n",
       "      <td>8.73</td>\n",
       "      <td>114.62</td>\n",
       "      <td>97.776</td>\n",
       "      <td>2016</td>\n",
       "      <td>3</td>\n",
       "      <td>16.844</td>\n",
       "      <td>17.227131</td>\n",
       "      <td>1.929439</td>\n",
       "      <td>Card</td>\n",
       "      <td>Male</td>\n",
       "      <td>33</td>\n",
       "      <td>8536</td>\n",
       "    </tr>\n",
       "  </tbody>\n",
       "</table>\n",
       "</div>"
      ],
      "text/plain": [
       "   Transaction_ID  Customer_ID   Company        City  KM_Travelled  \\\n",
       "0        10000011        29290  Pink Cab  ATLANTA GA         30.45   \n",
       "1        10000012        27703  Pink Cab  ATLANTA GA         28.62   \n",
       "2        10000013        28712  Pink Cab  ATLANTA GA          9.04   \n",
       "3        10000014        28020  Pink Cab  ATLANTA GA         33.17   \n",
       "4        10000015        27182  Pink Cab  ATLANTA GA          8.73   \n",
       "\n",
       "   Price_Charged  Cost_of_Trip  Year  Month  Profit  ProfitPercentage  \\\n",
       "0         370.95       313.635  2016      8  57.315         18.274427   \n",
       "1         358.52       334.854  2016      6  23.666          7.067558   \n",
       "2         125.20        97.632  2016      2  27.568         28.236644   \n",
       "3         377.40       351.602  2016      7  25.798          7.337273   \n",
       "4         114.62        97.776  2016      3  16.844         17.227131   \n",
       "\n",
       "   Profit_per_KM Payment_Mode Gender  Age  Income_per_Month  \n",
       "0       1.882266         Card   Male   28             10813  \n",
       "1       0.826904         Card   Male   27              9237  \n",
       "2       3.049558         Cash   Male   53             11242  \n",
       "3       0.777751         Cash   Male   23             23327  \n",
       "4       1.929439         Card   Male   33              8536  "
      ]
     },
     "execution_count": 46,
     "metadata": {},
     "output_type": "execute_result"
    }
   ],
   "source": [
    "left = cab.set_index(['Transaction_ID'])\n",
    "right = transaction.set_index(['Transaction_ID'])\n",
    "masterdata = left.join(right)\n",
    "left = masterdata.set_index([masterdata.index,'Customer_ID'])\n",
    "right = customer.set_index(['Customer_ID'])\n",
    "masterdata = left.join(right)\n",
    "masterdata = masterdata.reset_index()\n",
    "masterdata.head()"
   ]
  },
  {
   "cell_type": "code",
   "execution_count": 47,
   "id": "860126fc",
   "metadata": {
    "execution": {
     "iopub.execute_input": "2022-01-25T08:59:46.279657Z",
     "iopub.status.busy": "2022-01-25T08:59:46.277977Z",
     "iopub.status.idle": "2022-01-25T08:59:46.720473Z",
     "shell.execute_reply": "2022-01-25T08:59:46.720976Z",
     "shell.execute_reply.started": "2021-08-10T04:59:38.622775Z"
    },
    "papermill": {
     "duration": 0.610805,
     "end_time": "2022-01-25T08:59:46.721174",
     "exception": false,
     "start_time": "2022-01-25T08:59:46.110369",
     "status": "completed"
    },
    "scrolled": true,
    "tags": []
   },
   "outputs": [
    {
     "name": "stdout",
     "output_type": "stream",
     "text": [
      "For DataSet :Master Data\n",
      "-------------//Shape of dataset- Master Data \n",
      "(359392, 16)\n",
      "-------------//Columns in dataset- Master Data \n",
      "Index(['Transaction_ID', 'Customer_ID', 'Company', 'City', 'KM_Travelled',\n",
      "       'Price_Charged', 'Cost_of_Trip', 'Year', 'Month', 'Profit',\n",
      "       'ProfitPercentage', 'Profit_per_KM', 'Payment_Mode', 'Gender', 'Age',\n",
      "       'Income_per_Month'],\n",
      "      dtype='object')\n",
      "-------------//Info for dataset- Master Data \n",
      "<class 'pandas.core.frame.DataFrame'>\n",
      "RangeIndex: 359392 entries, 0 to 359391\n",
      "Data columns (total 16 columns):\n",
      " #   Column            Non-Null Count   Dtype  \n",
      "---  ------            --------------   -----  \n",
      " 0   Transaction_ID    359392 non-null  int64  \n",
      " 1   Customer_ID       359392 non-null  int64  \n",
      " 2   Company           359392 non-null  object \n",
      " 3   City              359392 non-null  object \n",
      " 4   KM_Travelled      359392 non-null  float64\n",
      " 5   Price_Charged     359392 non-null  float64\n",
      " 6   Cost_of_Trip      359392 non-null  float64\n",
      " 7   Year              359392 non-null  int64  \n",
      " 8   Month             359392 non-null  int64  \n",
      " 9   Profit            359392 non-null  float64\n",
      " 10  ProfitPercentage  359392 non-null  float64\n",
      " 11  Profit_per_KM     359392 non-null  float64\n",
      " 12  Payment_Mode      359392 non-null  object \n",
      " 13  Gender            359392 non-null  object \n",
      " 14  Age               359392 non-null  int64  \n",
      " 15  Income_per_Month  359392 non-null  int64  \n",
      "dtypes: float64(6), int64(6), object(4)\n",
      "memory usage: 43.9+ MB\n",
      "None\n",
      "-------------//Null Values for dataset- Master Data\n",
      "Transaction_ID      0\n",
      "Customer_ID         0\n",
      "Company             0\n",
      "City                0\n",
      "KM_Travelled        0\n",
      "Price_Charged       0\n",
      "Cost_of_Trip        0\n",
      "Year                0\n",
      "Month               0\n",
      "Profit              0\n",
      "ProfitPercentage    0\n",
      "Profit_per_KM       0\n",
      "Payment_Mode        0\n",
      "Gender              0\n",
      "Age                 0\n",
      "Income_per_Month    0\n",
      "dtype: int64\n",
      "-------------//Description of dataset- Master Data\n",
      "       Transaction_ID    Customer_ID   KM_Travelled  Price_Charged  \\\n",
      "count    3.593920e+05  359392.000000  359392.000000  359392.000000   \n",
      "mean     1.022076e+07   19191.652115      22.567254     423.443311   \n",
      "std      1.268058e+05   21012.412463      12.233526     274.378911   \n",
      "min      1.000001e+07       1.000000       1.900000      15.600000   \n",
      "25%      1.011081e+07    2705.000000      12.000000     206.437500   \n",
      "50%      1.022104e+07    7459.000000      22.440000     386.360000   \n",
      "75%      1.033094e+07   36078.000000      32.960000     583.660000   \n",
      "max      1.044011e+07   60000.000000      48.000000    2048.030000   \n",
      "\n",
      "        Cost_of_Trip           Year          Month         Profit  \\\n",
      "count  359392.000000  359392.000000  359392.000000  359392.000000   \n",
      "mean      286.190113    2017.045199       7.156047     137.253198   \n",
      "std       157.993661       0.800239       3.413283     160.311840   \n",
      "min        19.000000    2016.000000       1.000000    -220.060000   \n",
      "25%       151.200000    2016.000000       4.000000      28.012000   \n",
      "50%       282.480000    2017.000000       8.000000      81.962000   \n",
      "75%       413.683200    2018.000000      10.000000     190.030000   \n",
      "max       691.200000    2018.000000      12.000000    1463.966000   \n",
      "\n",
      "       ProfitPercentage  Profit_per_KM            Age  Income_per_Month  \n",
      "count     359392.000000  359392.000000  359392.000000     359392.000000  \n",
      "mean          47.523115       6.083579      35.336705      15048.822937  \n",
      "std           42.571507       5.543493      12.594234       7969.409482  \n",
      "min          -40.933780      -4.998235      18.000000       2000.000000  \n",
      "25%           16.084529       2.000385      25.000000       8424.000000  \n",
      "50%           35.925527       4.466809      33.000000      14685.000000  \n",
      "75%           71.268038       9.170006      42.000000      21035.000000  \n",
      "max          320.214607      41.115556      65.000000      35000.000000  \n",
      "\n",
      "\n",
      "\n"
     ]
    }
   ],
   "source": [
    "data_info(masterdata, 'Master Data')"
   ]
  },
  {
   "cell_type": "code",
   "execution_count": 48,
   "id": "df7c7007",
   "metadata": {
    "execution": {
     "iopub.execute_input": "2022-01-25T08:59:46.911351Z",
     "iopub.status.busy": "2022-01-25T08:59:46.910733Z",
     "iopub.status.idle": "2022-01-25T08:59:46.931629Z",
     "shell.execute_reply": "2022-01-25T08:59:46.930940Z",
     "shell.execute_reply.started": "2021-08-10T04:59:38.956163Z"
    },
    "papermill": {
     "duration": 0.117274,
     "end_time": "2022-01-25T08:59:46.931777",
     "exception": false,
     "start_time": "2022-01-25T08:59:46.814503",
     "status": "completed"
    },
    "tags": []
   },
   "outputs": [],
   "source": [
    "data = masterdata.drop(['Transaction_ID', 'Customer_ID'], axis=1)"
   ]
  },
  {
   "cell_type": "code",
   "execution_count": 49,
   "id": "219711ff",
   "metadata": {
    "execution": {
     "iopub.execute_input": "2022-01-25T08:59:47.128402Z",
     "iopub.status.busy": "2022-01-25T08:59:47.127468Z",
     "iopub.status.idle": "2022-01-25T08:59:47.630859Z",
     "shell.execute_reply": "2022-01-25T08:59:47.630321Z",
     "shell.execute_reply.started": "2021-08-10T04:59:38.977692Z"
    },
    "papermill": {
     "duration": 0.604364,
     "end_time": "2022-01-25T08:59:47.631010",
     "exception": false,
     "start_time": "2022-01-25T08:59:47.026646",
     "status": "completed"
    },
    "scrolled": true,
    "tags": []
   },
   "outputs": [
    {
     "data": {
      "text/html": [
       "<div>\n",
       "<style scoped>\n",
       "    .dataframe tbody tr th:only-of-type {\n",
       "        vertical-align: middle;\n",
       "    }\n",
       "\n",
       "    .dataframe tbody tr th {\n",
       "        vertical-align: top;\n",
       "    }\n",
       "\n",
       "    .dataframe thead th {\n",
       "        text-align: right;\n",
       "    }\n",
       "</style>\n",
       "<table border=\"1\" class=\"dataframe\">\n",
       "  <thead>\n",
       "    <tr style=\"text-align: right;\">\n",
       "      <th></th>\n",
       "      <th>Company</th>\n",
       "      <th>City</th>\n",
       "      <th>KM_Travelled</th>\n",
       "      <th>Price_Charged</th>\n",
       "      <th>Cost_of_Trip</th>\n",
       "      <th>Year</th>\n",
       "      <th>Month</th>\n",
       "      <th>Profit</th>\n",
       "      <th>ProfitPercentage</th>\n",
       "      <th>Profit_per_KM</th>\n",
       "      <th>Payment_Mode</th>\n",
       "      <th>Gender</th>\n",
       "      <th>Age</th>\n",
       "      <th>Income_per_Month</th>\n",
       "    </tr>\n",
       "  </thead>\n",
       "  <tbody>\n",
       "    <tr>\n",
       "      <th>0</th>\n",
       "      <td>0</td>\n",
       "      <td>0</td>\n",
       "      <td>30.45</td>\n",
       "      <td>370.95</td>\n",
       "      <td>313.6350</td>\n",
       "      <td>2016</td>\n",
       "      <td>8</td>\n",
       "      <td>57.3150</td>\n",
       "      <td>18.274427</td>\n",
       "      <td>1.882266</td>\n",
       "      <td>0</td>\n",
       "      <td>1</td>\n",
       "      <td>28</td>\n",
       "      <td>10813</td>\n",
       "    </tr>\n",
       "    <tr>\n",
       "      <th>1</th>\n",
       "      <td>0</td>\n",
       "      <td>0</td>\n",
       "      <td>28.62</td>\n",
       "      <td>358.52</td>\n",
       "      <td>334.8540</td>\n",
       "      <td>2016</td>\n",
       "      <td>6</td>\n",
       "      <td>23.6660</td>\n",
       "      <td>7.067558</td>\n",
       "      <td>0.826904</td>\n",
       "      <td>0</td>\n",
       "      <td>1</td>\n",
       "      <td>27</td>\n",
       "      <td>9237</td>\n",
       "    </tr>\n",
       "    <tr>\n",
       "      <th>2</th>\n",
       "      <td>0</td>\n",
       "      <td>0</td>\n",
       "      <td>9.04</td>\n",
       "      <td>125.20</td>\n",
       "      <td>97.6320</td>\n",
       "      <td>2016</td>\n",
       "      <td>2</td>\n",
       "      <td>27.5680</td>\n",
       "      <td>28.236644</td>\n",
       "      <td>3.049558</td>\n",
       "      <td>1</td>\n",
       "      <td>1</td>\n",
       "      <td>53</td>\n",
       "      <td>11242</td>\n",
       "    </tr>\n",
       "    <tr>\n",
       "      <th>3</th>\n",
       "      <td>0</td>\n",
       "      <td>0</td>\n",
       "      <td>33.17</td>\n",
       "      <td>377.40</td>\n",
       "      <td>351.6020</td>\n",
       "      <td>2016</td>\n",
       "      <td>7</td>\n",
       "      <td>25.7980</td>\n",
       "      <td>7.337273</td>\n",
       "      <td>0.777751</td>\n",
       "      <td>1</td>\n",
       "      <td>1</td>\n",
       "      <td>23</td>\n",
       "      <td>23327</td>\n",
       "    </tr>\n",
       "    <tr>\n",
       "      <th>4</th>\n",
       "      <td>0</td>\n",
       "      <td>0</td>\n",
       "      <td>8.73</td>\n",
       "      <td>114.62</td>\n",
       "      <td>97.7760</td>\n",
       "      <td>2016</td>\n",
       "      <td>3</td>\n",
       "      <td>16.8440</td>\n",
       "      <td>17.227131</td>\n",
       "      <td>1.929439</td>\n",
       "      <td>0</td>\n",
       "      <td>1</td>\n",
       "      <td>33</td>\n",
       "      <td>8536</td>\n",
       "    </tr>\n",
       "    <tr>\n",
       "      <th>...</th>\n",
       "      <td>...</td>\n",
       "      <td>...</td>\n",
       "      <td>...</td>\n",
       "      <td>...</td>\n",
       "      <td>...</td>\n",
       "      <td>...</td>\n",
       "      <td>...</td>\n",
       "      <td>...</td>\n",
       "      <td>...</td>\n",
       "      <td>...</td>\n",
       "      <td>...</td>\n",
       "      <td>...</td>\n",
       "      <td>...</td>\n",
       "      <td>...</td>\n",
       "    </tr>\n",
       "    <tr>\n",
       "      <th>359387</th>\n",
       "      <td>1</td>\n",
       "      <td>18</td>\n",
       "      <td>4.80</td>\n",
       "      <td>69.24</td>\n",
       "      <td>63.3600</td>\n",
       "      <td>2018</td>\n",
       "      <td>8</td>\n",
       "      <td>5.8800</td>\n",
       "      <td>9.280303</td>\n",
       "      <td>1.225000</td>\n",
       "      <td>1</td>\n",
       "      <td>1</td>\n",
       "      <td>24</td>\n",
       "      <td>15651</td>\n",
       "    </tr>\n",
       "    <tr>\n",
       "      <th>359388</th>\n",
       "      <td>1</td>\n",
       "      <td>18</td>\n",
       "      <td>8.40</td>\n",
       "      <td>113.75</td>\n",
       "      <td>106.8480</td>\n",
       "      <td>2018</td>\n",
       "      <td>4</td>\n",
       "      <td>6.9020</td>\n",
       "      <td>6.459644</td>\n",
       "      <td>0.821667</td>\n",
       "      <td>1</td>\n",
       "      <td>1</td>\n",
       "      <td>32</td>\n",
       "      <td>6528</td>\n",
       "    </tr>\n",
       "    <tr>\n",
       "      <th>359389</th>\n",
       "      <td>1</td>\n",
       "      <td>18</td>\n",
       "      <td>27.75</td>\n",
       "      <td>437.07</td>\n",
       "      <td>349.6500</td>\n",
       "      <td>2018</td>\n",
       "      <td>5</td>\n",
       "      <td>87.4200</td>\n",
       "      <td>25.002145</td>\n",
       "      <td>3.150270</td>\n",
       "      <td>1</td>\n",
       "      <td>1</td>\n",
       "      <td>56</td>\n",
       "      <td>7966</td>\n",
       "    </tr>\n",
       "    <tr>\n",
       "      <th>359390</th>\n",
       "      <td>1</td>\n",
       "      <td>18</td>\n",
       "      <td>8.80</td>\n",
       "      <td>146.19</td>\n",
       "      <td>114.0480</td>\n",
       "      <td>2018</td>\n",
       "      <td>5</td>\n",
       "      <td>32.1420</td>\n",
       "      <td>28.182870</td>\n",
       "      <td>3.652500</td>\n",
       "      <td>0</td>\n",
       "      <td>1</td>\n",
       "      <td>32</td>\n",
       "      <td>6423</td>\n",
       "    </tr>\n",
       "    <tr>\n",
       "      <th>359391</th>\n",
       "      <td>1</td>\n",
       "      <td>18</td>\n",
       "      <td>12.76</td>\n",
       "      <td>191.58</td>\n",
       "      <td>177.6192</td>\n",
       "      <td>2018</td>\n",
       "      <td>2</td>\n",
       "      <td>13.9608</td>\n",
       "      <td>7.859961</td>\n",
       "      <td>1.094107</td>\n",
       "      <td>0</td>\n",
       "      <td>1</td>\n",
       "      <td>20</td>\n",
       "      <td>11284</td>\n",
       "    </tr>\n",
       "  </tbody>\n",
       "</table>\n",
       "<p>359392 rows × 14 columns</p>\n",
       "</div>"
      ],
      "text/plain": [
       "        Company  City  KM_Travelled  Price_Charged  Cost_of_Trip  Year  Month  \\\n",
       "0             0     0         30.45         370.95      313.6350  2016      8   \n",
       "1             0     0         28.62         358.52      334.8540  2016      6   \n",
       "2             0     0          9.04         125.20       97.6320  2016      2   \n",
       "3             0     0         33.17         377.40      351.6020  2016      7   \n",
       "4             0     0          8.73         114.62       97.7760  2016      3   \n",
       "...         ...   ...           ...            ...           ...   ...    ...   \n",
       "359387        1    18          4.80          69.24       63.3600  2018      8   \n",
       "359388        1    18          8.40         113.75      106.8480  2018      4   \n",
       "359389        1    18         27.75         437.07      349.6500  2018      5   \n",
       "359390        1    18          8.80         146.19      114.0480  2018      5   \n",
       "359391        1    18         12.76         191.58      177.6192  2018      2   \n",
       "\n",
       "         Profit  ProfitPercentage  Profit_per_KM  Payment_Mode  Gender  Age  \\\n",
       "0       57.3150         18.274427       1.882266             0       1   28   \n",
       "1       23.6660          7.067558       0.826904             0       1   27   \n",
       "2       27.5680         28.236644       3.049558             1       1   53   \n",
       "3       25.7980          7.337273       0.777751             1       1   23   \n",
       "4       16.8440         17.227131       1.929439             0       1   33   \n",
       "...         ...               ...            ...           ...     ...  ...   \n",
       "359387   5.8800          9.280303       1.225000             1       1   24   \n",
       "359388   6.9020          6.459644       0.821667             1       1   32   \n",
       "359389  87.4200         25.002145       3.150270             1       1   56   \n",
       "359390  32.1420         28.182870       3.652500             0       1   32   \n",
       "359391  13.9608          7.859961       1.094107             0       1   20   \n",
       "\n",
       "        Income_per_Month  \n",
       "0                  10813  \n",
       "1                   9237  \n",
       "2                  11242  \n",
       "3                  23327  \n",
       "4                   8536  \n",
       "...                  ...  \n",
       "359387             15651  \n",
       "359388              6528  \n",
       "359389              7966  \n",
       "359390              6423  \n",
       "359391             11284  \n",
       "\n",
       "[359392 rows x 14 columns]"
      ]
     },
     "execution_count": 49,
     "metadata": {},
     "output_type": "execute_result"
    }
   ],
   "source": [
    "from sklearn.preprocessing import LabelEncoder\n",
    "le = LabelEncoder()\n",
    "data[\"Company\"] = le.fit_transform(data[\"Company\"])\n",
    "data[\"Gender\"] = le.fit_transform(data[\"Gender\"])\n",
    "data[\"City\"] = le.fit_transform(data[\"City\"])\n",
    "data[\"Payment_Mode\"] = le.fit_transform(data[\"Payment_Mode\"])\n",
    "data"
   ]
  },
  {
   "cell_type": "code",
   "execution_count": 50,
   "id": "44a1f29f",
   "metadata": {
    "execution": {
     "iopub.execute_input": "2022-01-25T08:59:47.823462Z",
     "iopub.status.busy": "2022-01-25T08:59:47.822502Z",
     "iopub.status.idle": "2022-01-25T08:59:48.093902Z",
     "shell.execute_reply": "2022-01-25T08:59:48.093283Z",
     "shell.execute_reply.started": "2021-08-10T04:59:39.237277Z"
    },
    "papermill": {
     "duration": 0.368406,
     "end_time": "2022-01-25T08:59:48.094049",
     "exception": false,
     "start_time": "2022-01-25T08:59:47.725643",
     "status": "completed"
    },
    "tags": []
   },
   "outputs": [
    {
     "data": {
      "text/html": [
       "<div>\n",
       "<style scoped>\n",
       "    .dataframe tbody tr th:only-of-type {\n",
       "        vertical-align: middle;\n",
       "    }\n",
       "\n",
       "    .dataframe tbody tr th {\n",
       "        vertical-align: top;\n",
       "    }\n",
       "\n",
       "    .dataframe thead th {\n",
       "        text-align: right;\n",
       "    }\n",
       "</style>\n",
       "<table border=\"1\" class=\"dataframe\">\n",
       "  <thead>\n",
       "    <tr style=\"text-align: right;\">\n",
       "      <th></th>\n",
       "      <th>Company</th>\n",
       "      <th>City</th>\n",
       "      <th>KM_Travelled</th>\n",
       "      <th>Price_Charged</th>\n",
       "      <th>Cost_of_Trip</th>\n",
       "      <th>Year</th>\n",
       "      <th>Month</th>\n",
       "      <th>Profit</th>\n",
       "      <th>ProfitPercentage</th>\n",
       "      <th>Profit_per_KM</th>\n",
       "      <th>Payment_Mode</th>\n",
       "      <th>Gender</th>\n",
       "      <th>Age</th>\n",
       "      <th>Income_per_Month</th>\n",
       "    </tr>\n",
       "  </thead>\n",
       "  <tbody>\n",
       "    <tr>\n",
       "      <th>Company</th>\n",
       "      <td>1.000000</td>\n",
       "      <td>0.002109</td>\n",
       "      <td>0.000333</td>\n",
       "      <td>0.227986</td>\n",
       "      <td>0.133713</td>\n",
       "      <td>-0.003287</td>\n",
       "      <td>-0.031128</td>\n",
       "      <td>0.258426</td>\n",
       "      <td>0.286510</td>\n",
       "      <td>0.331957</td>\n",
       "      <td>-0.001026</td>\n",
       "      <td>0.017279</td>\n",
       "      <td>0.000630</td>\n",
       "      <td>-0.000712</td>\n",
       "    </tr>\n",
       "    <tr>\n",
       "      <th>City</th>\n",
       "      <td>0.002109</td>\n",
       "      <td>1.000000</td>\n",
       "      <td>0.000471</td>\n",
       "      <td>0.037286</td>\n",
       "      <td>0.000776</td>\n",
       "      <td>-0.000830</td>\n",
       "      <td>-0.005856</td>\n",
       "      <td>0.063052</td>\n",
       "      <td>0.080804</td>\n",
       "      <td>0.079695</td>\n",
       "      <td>-0.000885</td>\n",
       "      <td>-0.011733</td>\n",
       "      <td>-0.008872</td>\n",
       "      <td>-0.008725</td>\n",
       "    </tr>\n",
       "    <tr>\n",
       "      <th>KM_Travelled</th>\n",
       "      <td>0.000333</td>\n",
       "      <td>0.000471</td>\n",
       "      <td>1.000000</td>\n",
       "      <td>0.835753</td>\n",
       "      <td>0.981848</td>\n",
       "      <td>-0.001072</td>\n",
       "      <td>0.001033</td>\n",
       "      <td>0.462768</td>\n",
       "      <td>-0.000417</td>\n",
       "      <td>-0.000538</td>\n",
       "      <td>-0.000766</td>\n",
       "      <td>-0.001350</td>\n",
       "      <td>-0.000369</td>\n",
       "      <td>-0.000544</td>\n",
       "    </tr>\n",
       "    <tr>\n",
       "      <th>Price_Charged</th>\n",
       "      <td>0.227986</td>\n",
       "      <td>0.037286</td>\n",
       "      <td>0.835753</td>\n",
       "      <td>1.000000</td>\n",
       "      <td>0.859812</td>\n",
       "      <td>-0.036409</td>\n",
       "      <td>-0.036288</td>\n",
       "      <td>0.864154</td>\n",
       "      <td>0.463584</td>\n",
       "      <td>0.473222</td>\n",
       "      <td>0.000226</td>\n",
       "      <td>0.012661</td>\n",
       "      <td>-0.003084</td>\n",
       "      <td>0.003228</td>\n",
       "    </tr>\n",
       "    <tr>\n",
       "      <th>Cost_of_Trip</th>\n",
       "      <td>0.133713</td>\n",
       "      <td>0.000776</td>\n",
       "      <td>0.981848</td>\n",
       "      <td>0.859812</td>\n",
       "      <td>1.000000</td>\n",
       "      <td>-0.001773</td>\n",
       "      <td>-0.002720</td>\n",
       "      <td>0.486056</td>\n",
       "      <td>0.018536</td>\n",
       "      <td>0.031053</td>\n",
       "      <td>-0.000898</td>\n",
       "      <td>0.000495</td>\n",
       "      <td>-0.000189</td>\n",
       "      <td>-0.000633</td>\n",
       "    </tr>\n",
       "    <tr>\n",
       "      <th>Year</th>\n",
       "      <td>-0.003287</td>\n",
       "      <td>-0.000830</td>\n",
       "      <td>-0.001072</td>\n",
       "      <td>-0.036409</td>\n",
       "      <td>-0.001773</td>\n",
       "      <td>1.000000</td>\n",
       "      <td>-0.007440</td>\n",
       "      <td>-0.060567</td>\n",
       "      <td>-0.077770</td>\n",
       "      <td>-0.076459</td>\n",
       "      <td>-0.000870</td>\n",
       "      <td>-0.012758</td>\n",
       "      <td>-0.000579</td>\n",
       "      <td>-0.001617</td>\n",
       "    </tr>\n",
       "    <tr>\n",
       "      <th>Month</th>\n",
       "      <td>-0.031128</td>\n",
       "      <td>-0.005856</td>\n",
       "      <td>0.001033</td>\n",
       "      <td>-0.036288</td>\n",
       "      <td>-0.002720</td>\n",
       "      <td>-0.007440</td>\n",
       "      <td>1.000000</td>\n",
       "      <td>-0.059428</td>\n",
       "      <td>-0.074669</td>\n",
       "      <td>-0.078192</td>\n",
       "      <td>-0.001861</td>\n",
       "      <td>-0.004578</td>\n",
       "      <td>-0.000095</td>\n",
       "      <td>0.000536</td>\n",
       "    </tr>\n",
       "    <tr>\n",
       "      <th>Profit</th>\n",
       "      <td>0.258426</td>\n",
       "      <td>0.063052</td>\n",
       "      <td>0.462768</td>\n",
       "      <td>0.864154</td>\n",
       "      <td>0.486056</td>\n",
       "      <td>-0.060567</td>\n",
       "      <td>-0.059428</td>\n",
       "      <td>1.000000</td>\n",
       "      <td>0.775171</td>\n",
       "      <td>0.779330</td>\n",
       "      <td>0.001273</td>\n",
       "      <td>0.021182</td>\n",
       "      <td>-0.005093</td>\n",
       "      <td>0.006148</td>\n",
       "    </tr>\n",
       "    <tr>\n",
       "      <th>ProfitPercentage</th>\n",
       "      <td>0.286510</td>\n",
       "      <td>0.080804</td>\n",
       "      <td>-0.000417</td>\n",
       "      <td>0.463584</td>\n",
       "      <td>0.018536</td>\n",
       "      <td>-0.077770</td>\n",
       "      <td>-0.074669</td>\n",
       "      <td>0.775171</td>\n",
       "      <td>1.000000</td>\n",
       "      <td>0.994458</td>\n",
       "      <td>0.002032</td>\n",
       "      <td>0.025711</td>\n",
       "      <td>-0.006606</td>\n",
       "      <td>0.008196</td>\n",
       "    </tr>\n",
       "    <tr>\n",
       "      <th>Profit_per_KM</th>\n",
       "      <td>0.331957</td>\n",
       "      <td>0.079695</td>\n",
       "      <td>-0.000538</td>\n",
       "      <td>0.473222</td>\n",
       "      <td>0.031053</td>\n",
       "      <td>-0.076459</td>\n",
       "      <td>-0.078192</td>\n",
       "      <td>0.779330</td>\n",
       "      <td>0.994458</td>\n",
       "      <td>1.000000</td>\n",
       "      <td>0.001932</td>\n",
       "      <td>0.026128</td>\n",
       "      <td>-0.006428</td>\n",
       "      <td>0.008159</td>\n",
       "    </tr>\n",
       "    <tr>\n",
       "      <th>Payment_Mode</th>\n",
       "      <td>-0.001026</td>\n",
       "      <td>-0.000885</td>\n",
       "      <td>-0.000766</td>\n",
       "      <td>0.000226</td>\n",
       "      <td>-0.000898</td>\n",
       "      <td>-0.000870</td>\n",
       "      <td>-0.001861</td>\n",
       "      <td>0.001273</td>\n",
       "      <td>0.002032</td>\n",
       "      <td>0.001932</td>\n",
       "      <td>1.000000</td>\n",
       "      <td>-0.000080</td>\n",
       "      <td>-0.001118</td>\n",
       "      <td>-0.000866</td>\n",
       "    </tr>\n",
       "    <tr>\n",
       "      <th>Gender</th>\n",
       "      <td>0.017279</td>\n",
       "      <td>-0.011733</td>\n",
       "      <td>-0.001350</td>\n",
       "      <td>0.012661</td>\n",
       "      <td>0.000495</td>\n",
       "      <td>-0.012758</td>\n",
       "      <td>-0.004578</td>\n",
       "      <td>0.021182</td>\n",
       "      <td>0.025711</td>\n",
       "      <td>0.026128</td>\n",
       "      <td>-0.000080</td>\n",
       "      <td>1.000000</td>\n",
       "      <td>0.003366</td>\n",
       "      <td>-0.000991</td>\n",
       "    </tr>\n",
       "    <tr>\n",
       "      <th>Age</th>\n",
       "      <td>0.000630</td>\n",
       "      <td>-0.008872</td>\n",
       "      <td>-0.000369</td>\n",
       "      <td>-0.003084</td>\n",
       "      <td>-0.000189</td>\n",
       "      <td>-0.000579</td>\n",
       "      <td>-0.000095</td>\n",
       "      <td>-0.005093</td>\n",
       "      <td>-0.006606</td>\n",
       "      <td>-0.006428</td>\n",
       "      <td>-0.001118</td>\n",
       "      <td>0.003366</td>\n",
       "      <td>1.000000</td>\n",
       "      <td>0.003907</td>\n",
       "    </tr>\n",
       "    <tr>\n",
       "      <th>Income_per_Month</th>\n",
       "      <td>-0.000712</td>\n",
       "      <td>-0.008725</td>\n",
       "      <td>-0.000544</td>\n",
       "      <td>0.003228</td>\n",
       "      <td>-0.000633</td>\n",
       "      <td>-0.001617</td>\n",
       "      <td>0.000536</td>\n",
       "      <td>0.006148</td>\n",
       "      <td>0.008196</td>\n",
       "      <td>0.008159</td>\n",
       "      <td>-0.000866</td>\n",
       "      <td>-0.000991</td>\n",
       "      <td>0.003907</td>\n",
       "      <td>1.000000</td>\n",
       "    </tr>\n",
       "  </tbody>\n",
       "</table>\n",
       "</div>"
      ],
      "text/plain": [
       "                   Company      City  KM_Travelled  Price_Charged  \\\n",
       "Company           1.000000  0.002109      0.000333       0.227986   \n",
       "City              0.002109  1.000000      0.000471       0.037286   \n",
       "KM_Travelled      0.000333  0.000471      1.000000       0.835753   \n",
       "Price_Charged     0.227986  0.037286      0.835753       1.000000   \n",
       "Cost_of_Trip      0.133713  0.000776      0.981848       0.859812   \n",
       "Year             -0.003287 -0.000830     -0.001072      -0.036409   \n",
       "Month            -0.031128 -0.005856      0.001033      -0.036288   \n",
       "Profit            0.258426  0.063052      0.462768       0.864154   \n",
       "ProfitPercentage  0.286510  0.080804     -0.000417       0.463584   \n",
       "Profit_per_KM     0.331957  0.079695     -0.000538       0.473222   \n",
       "Payment_Mode     -0.001026 -0.000885     -0.000766       0.000226   \n",
       "Gender            0.017279 -0.011733     -0.001350       0.012661   \n",
       "Age               0.000630 -0.008872     -0.000369      -0.003084   \n",
       "Income_per_Month -0.000712 -0.008725     -0.000544       0.003228   \n",
       "\n",
       "                  Cost_of_Trip      Year     Month    Profit  \\\n",
       "Company               0.133713 -0.003287 -0.031128  0.258426   \n",
       "City                  0.000776 -0.000830 -0.005856  0.063052   \n",
       "KM_Travelled          0.981848 -0.001072  0.001033  0.462768   \n",
       "Price_Charged         0.859812 -0.036409 -0.036288  0.864154   \n",
       "Cost_of_Trip          1.000000 -0.001773 -0.002720  0.486056   \n",
       "Year                 -0.001773  1.000000 -0.007440 -0.060567   \n",
       "Month                -0.002720 -0.007440  1.000000 -0.059428   \n",
       "Profit                0.486056 -0.060567 -0.059428  1.000000   \n",
       "ProfitPercentage      0.018536 -0.077770 -0.074669  0.775171   \n",
       "Profit_per_KM         0.031053 -0.076459 -0.078192  0.779330   \n",
       "Payment_Mode         -0.000898 -0.000870 -0.001861  0.001273   \n",
       "Gender                0.000495 -0.012758 -0.004578  0.021182   \n",
       "Age                  -0.000189 -0.000579 -0.000095 -0.005093   \n",
       "Income_per_Month     -0.000633 -0.001617  0.000536  0.006148   \n",
       "\n",
       "                  ProfitPercentage  Profit_per_KM  Payment_Mode    Gender  \\\n",
       "Company                   0.286510       0.331957     -0.001026  0.017279   \n",
       "City                      0.080804       0.079695     -0.000885 -0.011733   \n",
       "KM_Travelled             -0.000417      -0.000538     -0.000766 -0.001350   \n",
       "Price_Charged             0.463584       0.473222      0.000226  0.012661   \n",
       "Cost_of_Trip              0.018536       0.031053     -0.000898  0.000495   \n",
       "Year                     -0.077770      -0.076459     -0.000870 -0.012758   \n",
       "Month                    -0.074669      -0.078192     -0.001861 -0.004578   \n",
       "Profit                    0.775171       0.779330      0.001273  0.021182   \n",
       "ProfitPercentage          1.000000       0.994458      0.002032  0.025711   \n",
       "Profit_per_KM             0.994458       1.000000      0.001932  0.026128   \n",
       "Payment_Mode              0.002032       0.001932      1.000000 -0.000080   \n",
       "Gender                    0.025711       0.026128     -0.000080  1.000000   \n",
       "Age                      -0.006606      -0.006428     -0.001118  0.003366   \n",
       "Income_per_Month          0.008196       0.008159     -0.000866 -0.000991   \n",
       "\n",
       "                       Age  Income_per_Month  \n",
       "Company           0.000630         -0.000712  \n",
       "City             -0.008872         -0.008725  \n",
       "KM_Travelled     -0.000369         -0.000544  \n",
       "Price_Charged    -0.003084          0.003228  \n",
       "Cost_of_Trip     -0.000189         -0.000633  \n",
       "Year             -0.000579         -0.001617  \n",
       "Month            -0.000095          0.000536  \n",
       "Profit           -0.005093          0.006148  \n",
       "ProfitPercentage -0.006606          0.008196  \n",
       "Profit_per_KM    -0.006428          0.008159  \n",
       "Payment_Mode     -0.001118         -0.000866  \n",
       "Gender            0.003366         -0.000991  \n",
       "Age               1.000000          0.003907  \n",
       "Income_per_Month  0.003907          1.000000  "
      ]
     },
     "execution_count": 50,
     "metadata": {},
     "output_type": "execute_result"
    }
   ],
   "source": [
    "corr = data.corr()\n",
    "corr"
   ]
  },
  {
   "cell_type": "code",
   "execution_count": 51,
   "id": "9d48f205",
   "metadata": {
    "execution": {
     "iopub.execute_input": "2022-01-25T08:59:48.308581Z",
     "iopub.status.busy": "2022-01-25T08:59:48.307567Z",
     "iopub.status.idle": "2022-01-25T08:59:48.751295Z",
     "shell.execute_reply": "2022-01-25T08:59:48.750763Z",
     "shell.execute_reply.started": "2021-08-10T04:59:39.50117Z"
    },
    "papermill": {
     "duration": 0.56253,
     "end_time": "2022-01-25T08:59:48.751432",
     "exception": false,
     "start_time": "2022-01-25T08:59:48.188902",
     "status": "completed"
    },
    "scrolled": true,
    "tags": []
   },
   "outputs": [
    {
     "data": {
      "text/plain": [
       "<AxesSubplot:>"
      ]
     },
     "execution_count": 51,
     "metadata": {},
     "output_type": "execute_result"
    },
    {
     "data": {
      "image/png": "[encoded data removed]",
      "text/plain": [
       "<Figure size 720x720 with 2 Axes>"
      ]
     },
     "metadata": {
      "needs_background": "light"
     },
     "output_type": "display_data"
    }
   ],
   "source": [
    "fig, ax = plt.subplots(figsize=(10,10))\n",
    "sns.heatmap(corr, ax=ax)"
   ]
  },
  {
   "cell_type": "markdown",
   "id": "8e3388f7",
   "metadata": {
    "papermill": {
     "duration": 0.096045,
     "end_time": "2022-01-25T08:59:48.943858",
     "exception": false,
     "start_time": "2022-01-25T08:59:48.847813",
     "status": "completed"
    },
    "tags": []
   },
   "source": [
    "<h4 style=\"color:green;\">List of highly correlated attributes</h4>\n",
    "\n",
    "* KM_Travelled and Price_Charged\n",
    "* KM_Travelled and Cost_of_Trip\n",
    "* Price_Charged and Cost_of_Trip\n",
    "* Profit and ProfitPercentage\n"
   ]
  },
  {
   "cell_type": "code",
   "execution_count": 52,
   "id": "c3330467",
   "metadata": {
    "execution": {
     "iopub.execute_input": "2022-01-25T08:59:49.195472Z",
     "iopub.status.busy": "2022-01-25T08:59:49.194799Z",
     "iopub.status.idle": "2022-01-25T08:59:49.414017Z",
     "shell.execute_reply": "2022-01-25T08:59:49.414568Z",
     "shell.execute_reply.started": "2021-08-10T04:59:39.916256Z"
    },
    "papermill": {
     "duration": 0.373508,
     "end_time": "2022-01-25T08:59:49.414736",
     "exception": false,
     "start_time": "2022-01-25T08:59:49.041228",
     "status": "completed"
    },
    "tags": []
   },
   "outputs": [
    {
     "data": {
      "image/png": "[encoded data removed]",
      "text/plain": [
       "<Figure size 432x288 with 1 Axes>"
      ]
     },
     "metadata": {
      "needs_background": "light"
     },
     "output_type": "display_data"
    },
    {
     "name": "stdout",
     "output_type": "stream",
     "text": [
      "Company       Pink Cab  Yellow Cab\n",
      "Payment_Mode                      \n",
      "Card             50719      164785\n",
      "Cash             33992      109896\n"
     ]
    }
   ],
   "source": [
    "counts = masterdata.groupby(['Payment_Mode','Company']).Transaction_ID.count().unstack()\n",
    "ax = counts.plot(kind='bar',stacked = False)\n",
    "plt.show()\n",
    "print(counts)"
   ]
  },
  {
   "cell_type": "code",
   "execution_count": 53,
   "id": "48710a57",
   "metadata": {
    "execution": {
     "iopub.execute_input": "2022-01-25T08:59:49.617895Z",
     "iopub.status.busy": "2022-01-25T08:59:49.616940Z",
     "iopub.status.idle": "2022-01-25T08:59:50.385413Z",
     "shell.execute_reply": "2022-01-25T08:59:50.386091Z",
     "shell.execute_reply.started": "2021-08-10T04:59:40.109107Z"
    },
    "papermill": {
     "duration": 0.873716,
     "end_time": "2022-01-25T08:59:50.386327",
     "exception": false,
     "start_time": "2022-01-25T08:59:49.512611",
     "status": "completed"
    },
    "tags": []
   },
   "outputs": [
    {
     "data": {
      "image/png": "[encoded data removed]",
      "text/plain": [
       "<Figure size 1008x432 with 1 Axes>"
      ]
     },
     "metadata": {
      "needs_background": "light"
     },
     "output_type": "display_data"
    },
    {
     "name": "stdout",
     "output_type": "stream",
     "text": [
      "                   Profits\n",
      "City                      \n",
      "NEW YORK NY     27962555.0\n",
      "LOS ANGELES CA   4411709.0\n",
      "WASHINGTON DC    3492870.0\n",
      "CHICAGO IL       3387313.0\n",
      "BOSTON MA        1768719.0\n",
      "SAN DIEGO CA     1587163.0\n",
      "SILICON VALLEY   1316705.0\n",
      "DALLAS TX        1128733.0\n",
      "ATLANTA GA        842433.0\n",
      "MIAMI FL          758301.0\n",
      "SEATTLE WA        604685.0\n",
      "AUSTIN TX         526701.0\n",
      "ORANGE COUNTY     457002.0\n",
      "DENVER CO         397585.0\n",
      "PHOENIX AZ        192941.0\n",
      "NASHVILLE TN      149532.0\n",
      "TUCSON AZ         140261.0\n",
      "SACRAMENTO CA     117326.0\n",
      "PITTSBURGH PA      85166.0\n"
     ]
    }
   ],
   "source": [
    "price = np.array(cab[\"Price_Charged\"])\n",
    "cost = np.array(cab[\"Cost_of_Trip\"])\n",
    "profit = np.subtract(price,cost)\n",
    "new = zip(cab[\"City\"],profit)\n",
    "profit_df = (pd.DataFrame(new,columns = [\"City\",\"Profits\"]).groupby(\"City\").sum()).sort_values(by = \"Profits\",ascending=False)\n",
    "new_df = profit_df.round()\n",
    "\n",
    "plt.figure(figsize = (14,6))\n",
    "plt.bar(new_df.index,new_df.Profits)\n",
    "plt.xticks(rotation=\"90\")\n",
    "plt.ylabel(\"Profits\")\n",
    "plt.title(\"Profits for each city\")\n",
    "plt.show()\n",
    "\n",
    "print(new_df)"
   ]
  },
  {
   "cell_type": "code",
   "execution_count": 54,
   "id": "f8cb57fe",
   "metadata": {
    "execution": {
     "iopub.execute_input": "2022-01-25T08:59:50.594732Z",
     "iopub.status.busy": "2022-01-25T08:59:50.593695Z",
     "iopub.status.idle": "2022-01-25T08:59:51.175584Z",
     "shell.execute_reply": "2022-01-25T08:59:51.176275Z",
     "shell.execute_reply.started": "2021-08-10T04:59:40.65881Z"
    },
    "papermill": {
     "duration": 0.688891,
     "end_time": "2022-01-25T08:59:51.176504",
     "exception": false,
     "start_time": "2022-01-25T08:59:50.487613",
     "status": "completed"
    },
    "tags": []
   },
   "outputs": [
    {
     "data": {
      "image/png": "[encoded data removed]",
      "text/plain": [
       "<Figure size 1008x432 with 1 Axes>"
      ]
     },
     "metadata": {
      "needs_background": "light"
     },
     "output_type": "display_data"
    },
    {
     "name": "stdout",
     "output_type": "stream",
     "text": [
      "                Profit_Percentage\n",
      "City                             \n",
      "NEW YORK NY                  96.0\n",
      "DALLAS TX                    55.0\n",
      "SILICON VALLEY               54.0\n",
      "MIAMI FL                     41.0\n",
      "ORANGE COUNTY                41.0\n",
      "ATLANTA GA                   39.0\n",
      "AUSTIN TX                    39.0\n",
      "DENVER CO                    36.0\n",
      "PHOENIX AZ                   33.0\n",
      "LOS ANGELES CA               33.0\n",
      "SAN DIEGO CA                 29.0\n",
      "WASHINGTON DC                27.0\n",
      "TUCSON AZ                    27.0\n",
      "SEATTLE WA                   27.0\n",
      "PITTSBURGH PA                22.0\n",
      "BOSTON MA                    21.0\n",
      "CHICAGO IL                   21.0\n",
      "SACRAMENTO CA                18.0\n",
      "NASHVILLE TN                 18.0\n"
     ]
    }
   ],
   "source": [
    "profitpercentage = np.array(cab[\"ProfitPercentage\"])\n",
    "new = zip(cab[\"City\"],profitpercentage)\n",
    "profitpercent_df = (pd.DataFrame(new,columns = [\"City\",\"Profit_Percentage\"]).groupby(\"City\").mean()).sort_values(by = \"Profit_Percentage\",ascending=False)\n",
    "new_df = profitpercent_df.round()\n",
    "\n",
    "plt.figure(figsize = (14,6))\n",
    "plt.bar(new_df.index,new_df.Profit_Percentage)\n",
    "plt.xticks(rotation=\"90\")\n",
    "plt.ylabel(\"Profit_Percentage\")\n",
    "plt.title(\"Profit Percentage for each city\")\n",
    "plt.show()\n",
    "\n",
    "print(new_df)"
   ]
  },
  {
   "cell_type": "markdown",
   "id": "7ab99dd1",
   "metadata": {
    "papermill": {
     "duration": 0.101563,
     "end_time": "2022-01-25T08:59:51.381018",
     "exception": false,
     "start_time": "2022-01-25T08:59:51.279455",
     "status": "completed"
    },
    "tags": []
   },
   "source": [
    "<h4 style=\"color:green;\">Above graphs represent City wise Profits and Profit Percentage trend</h4>"
   ]
  },
  {
   "cell_type": "code",
   "execution_count": 55,
   "id": "4c4db1df",
   "metadata": {
    "execution": {
     "iopub.execute_input": "2022-01-25T08:59:51.617693Z",
     "iopub.status.busy": "2022-01-25T08:59:51.616528Z",
     "iopub.status.idle": "2022-01-25T08:59:52.292913Z",
     "shell.execute_reply": "2022-01-25T08:59:52.293693Z",
     "shell.execute_reply.started": "2021-08-10T05:03:52.184331Z"
    },
    "papermill": {
     "duration": 0.809766,
     "end_time": "2022-01-25T08:59:52.293954",
     "exception": false,
     "start_time": "2022-01-25T08:59:51.484188",
     "status": "completed"
    },
    "tags": []
   },
   "outputs": [
    {
     "data": {
      "image/png": "[encoded data removed]",
      "text/plain": [
       "<Figure size 1008x432 with 1 Axes>"
      ]
     },
     "metadata": {
      "needs_background": "light"
     },
     "output_type": "display_data"
    },
    {
     "data": {
      "image/png": "[encoded data removed]",
      "text/plain": [
       "<Figure size 1008x432 with 1 Axes>"
      ]
     },
     "metadata": {
      "needs_background": "light"
     },
     "output_type": "display_data"
    }
   ],
   "source": [
    "yellow_cab = masterdata[masterdata.Company.isin(['Yellow Cab'])]\n",
    "pink_cab = masterdata[masterdata.Company.isin(['Pink Cab'])]\n",
    "counts = yellow_cab.groupby(['City']).Profit.mean()\n",
    "y_new = (yellow_cab.groupby(\"City\").mean())\n",
    "plt.figure(figsize = (14,6))\n",
    "plt.bar(y_new.index,y_new[\"Profit\"])\n",
    "plt.xticks(rotation=\"90\")\n",
    "plt.ylabel(\"City\")\n",
    "plt.title(\"Average Profit per City for Yellow Cab\")\n",
    "plt.show()\n",
    "\n",
    "counts = pink_cab.groupby(['City']).Profit.mean()\n",
    "p_new = (pink_cab.groupby(\"City\").mean())\n",
    "plt.figure(figsize = (14,6))\n",
    "plt.bar(p_new.index,p_new[\"Profit\"])\n",
    "plt.xticks(rotation=\"90\")\n",
    "plt.ylabel(\"City\")\n",
    "plt.title(\"Average Profit per City for Pink Cab\")\n",
    "plt.show()"
   ]
  },
  {
   "cell_type": "markdown",
   "id": "ac16d06c",
   "metadata": {
    "papermill": {
     "duration": 0.106117,
     "end_time": "2022-01-25T08:59:52.521038",
     "exception": false,
     "start_time": "2022-01-25T08:59:52.414921",
     "status": "completed"
    },
    "tags": []
   },
   "source": [
    "<h4 style=\"color:green;\">Above graphs represent City wise Profits and Profit Percentage trend</h4>"
   ]
  }
 ],
 "metadata": {
  "kernelspec": {
   "display_name": "Python 3",
   "language": "python",
   "name": "python3"
  },
  "language_info": {
   "codemirror_mode": {
    "name": "ipython",
    "version": 3
   },
   "file_extension": ".py",
   "mimetype": "text/x-python",
   "name": "python",
   "nbconvert_exporter": "python",
   "pygments_lexer": "ipython3",
   "version": "3.7.10"
  },
  "papermill": {
   "default_parameters": {},
   "duration": 42.891685,
   "end_time": "2022-01-25T08:59:53.434636",
   "environment_variables": {},
   "exception": null,
   "input_path": "__notebook__.ipynb",
   "output_path": "__notebook__.ipynb",
   "parameters": {},
   "start_time": "2022-01-25T08:59:10.542951",
   "version": "2.3.3"
  }
 },
 "nbformat": 4,
 "nbformat_minor": 5
}
